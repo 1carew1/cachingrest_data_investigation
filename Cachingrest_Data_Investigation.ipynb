{
 "cells": [
  {
   "cell_type": "code",
   "execution_count": 1,
   "metadata": {},
   "outputs": [],
   "source": [
    "%matplotlib inline "
   ]
  },
  {
   "cell_type": "markdown",
   "metadata": {},
   "source": [
    "# Caching Rest Data Investigation\n",
    "***"
   ]
  },
  {
   "cell_type": "markdown",
   "metadata": {},
   "source": [
    "## Table of Contents\n",
    "***"
   ]
  },
  {
   "cell_type": "markdown",
   "metadata": {},
   "source": [
    "## Aim <a class=\"anchor\" id=\"aim\"></a>\n",
    "***\n",
    "\n",
    "The aim of this notebook is to do some Exploratory data analysis on the data obtained from the Caching Rest Application"
   ]
  },
  {
   "cell_type": "markdown",
   "metadata": {},
   "source": [
    "## Code Setup <a class=\"anchor\" id=\"code-setup\"></a>\n",
    "***"
   ]
  },
  {
   "cell_type": "markdown",
   "metadata": {},
   "source": [
    "### Import Libraries"
   ]
  },
  {
   "cell_type": "code",
   "execution_count": 2,
   "metadata": {},
   "outputs": [
    {
     "data": {
      "text/html": [
       "\n",
       "<style>\n",
       ".output_png {\n",
       "    display: table-cell;\n",
       "    text-align: center;\n",
       "    vertical-align: middle;\n",
       "}\n",
       "</style>\n"
      ],
      "text/plain": [
       "<IPython.core.display.HTML object>"
      ]
     },
     "execution_count": 2,
     "metadata": {},
     "output_type": "execute_result"
    }
   ],
   "source": [
    "import pymysql\n",
    "import pandas as pd\n",
    "import sys\n",
    "import numpy as np\n",
    "import matplotlib.pyplot as plt\n",
    "import seaborn as sns\n",
    "sns.set_style(\"darkgrid\")\n",
    "plt.rcParams['figure.figsize'] = 14, 8\n",
    "from IPython.core.display import HTML\n",
    "HTML(\"\"\"\n",
    "<style>\n",
    ".output_png {\n",
    "    display: table-cell;\n",
    "    text-align: center;\n",
    "    vertical-align: middle;\n",
    "}\n",
    "</style>\n",
    "\"\"\")"
   ]
  },
  {
   "cell_type": "markdown",
   "metadata": {},
   "source": [
    "### Custom Classes"
   ]
  },
  {
   "cell_type": "code",
   "execution_count": 3,
   "metadata": {},
   "outputs": [],
   "source": [
    "class CachePerformanceMetric:\n",
    "    def __init__(self, cache_hit_size, cache_miss_size):\n",
    "        self.cache_hit_size = cache_hit_size\n",
    "        self.cache_miss_size = cache_miss_size\n",
    "        self.total_size = cache_hit_size + cache_miss_size\n",
    "        self.hit_ratio = cache_hit_size/self.total_size\n",
    "    \n",
    "    def __repr__(self):\n",
    "        return \"Hit Ratio : \" + str(self.hit_ratio)\n",
    "\n",
    "class MainCacheAnalyseData:\n",
    "    def __init__(self, batch_ids, cache_performance_metrics, cache_initial_content_per_batch,\n",
    "                cache_performance_per_batch, cache_remainder_per_batch):\n",
    "        self.batch_ids = batch_ids\n",
    "        self.cache_performance_metrics = cache_performance_metrics\n",
    "        self.cache_initial_content_per_batch = cache_initial_content_per_batch\n",
    "        self.cache_performance_per_batch = cache_performance_per_batch\n",
    "        self.cache_remainder_per_batch = cache_remainder_per_batch\n",
    "    def __iter__(self):\n",
    "        yield 'batch_ids', self.batch_ids\n",
    "        yield 'cache_performance_metrics', self.cache_performance_metrics\n",
    "        yield 'cache_initial_content_per_batch', self.cache_initial_content_per_batch\n",
    "        yield 'cache_performance_per_batch', self.cache_performance_per_batch\n",
    "        yield 'cache_remainder_per_batch', self.cache_remainder_per_batch"
   ]
  },
  {
   "cell_type": "markdown",
   "metadata": {},
   "source": [
    "### Constants"
   ]
  },
  {
   "cell_type": "code",
   "execution_count": 4,
   "metadata": {},
   "outputs": [],
   "source": [
    "db_connection = pymysql.connect(\"pidb\",\"dbuser\",\"password\",\"cachetest\" )"
   ]
  },
  {
   "cell_type": "markdown",
   "metadata": {},
   "source": [
    "### Useful Functions"
   ]
  },
  {
   "cell_type": "markdown",
   "metadata": {},
   "source": [
    "#### Table Read"
   ]
  },
  {
   "cell_type": "code",
   "execution_count": 5,
   "metadata": {},
   "outputs": [],
   "source": [
    "def read_full_db_table(table_name):\n",
    "    return pd.read_sql('SELECT * FROM ' + table_name, con=db_connection)"
   ]
  },
  {
   "cell_type": "markdown",
   "metadata": {},
   "source": [
    "#### Query to Dataframe"
   ]
  },
  {
   "cell_type": "code",
   "execution_count": 6,
   "metadata": {},
   "outputs": [],
   "source": [
    "def obtain_df_from_query(query_string):\n",
    "    return pd.read_sql(query_string, con=db_connection)"
   ]
  },
  {
   "cell_type": "markdown",
   "metadata": {},
   "source": [
    "#### Cache Hit Bytes to Boolean"
   ]
  },
  {
   "cell_type": "code",
   "execution_count": 7,
   "metadata": {},
   "outputs": [],
   "source": [
    "def convert_cache_hit_to_boolean(df):\n",
    "    df.cache_hit = df.cache_hit.map({b'\\x00' : False, b'\\x01' : True})\n",
    "    return df"
   ]
  },
  {
   "cell_type": "markdown",
   "metadata": {},
   "source": [
    "#### DF ids to comma seperated string"
   ]
  },
  {
   "cell_type": "code",
   "execution_count": 8,
   "metadata": {},
   "outputs": [],
   "source": [
    "def df_ids_to_string(df):\n",
    "    id_list = df.id.tolist()\n",
    "    id_list = [str(i) for i in id_list]\n",
    "    return ''.join(id_list)"
   ]
  },
  {
   "cell_type": "markdown",
   "metadata": {},
   "source": [
    "#### Compute Average Hit Ratio"
   ]
  },
  {
   "cell_type": "code",
   "execution_count": 9,
   "metadata": {},
   "outputs": [],
   "source": [
    "def compute_average_hit_ratio(cache_performance_metrics):\n",
    "    average_hit_ratio = 0\n",
    "    for cache_performance_metric in cache_performance_metrics:\n",
    "        average_hit_ratio = average_hit_ratio + cache_performance_metric.hit_ratio\n",
    "    average_hit_ratio = average_hit_ratio/(len(cache_performance_metrics))\n",
    "    return average_hit_ratio"
   ]
  },
  {
   "cell_type": "markdown",
   "metadata": {},
   "source": [
    "#### Compute Cache Size from Dataframe"
   ]
  },
  {
   "cell_type": "code",
   "execution_count": 10,
   "metadata": {},
   "outputs": [],
   "source": [
    "def cache_size_mb_from_cache_content(df):\n",
    "    return (df[[\"file_sizekb\"]].sum().values[0])/1024"
   ]
  },
  {
   "cell_type": "markdown",
   "metadata": {},
   "source": [
    "#### Process a Set of Parameters"
   ]
  },
  {
   "cell_type": "code",
   "execution_count": 11,
   "metadata": {},
   "outputs": [],
   "source": [
    "def crunch_the_data(cache_type, cache_size_mb, eviction_policy):\n",
    "    query_for_batch = (\"cache_type == '\" + cache_type + \"' and cache_size_mb == '\" + str(cache_size_mb) \n",
    "                       + \"' and eviction_policy == '\" + eviction_policy + \"'\")\n",
    "    # Batches fitting criteria\n",
    "    batches_df = batch_df.query(query_for_batch)\n",
    "    \n",
    "    if(batches_df.empty):\n",
    "        print(\"Sorry, No batches for :\", cache_type, \",\", cache_size_mb, \",\",  eviction_policy)\n",
    "        return None\n",
    "    \n",
    "    # Cache Performance\n",
    "    cache_performace_df = obtain_df_from_query(\"SELECT * FROM cache_performance cp where cp.batch_id in (\"\n",
    "                                              + df_ids_to_string(batches_df)\n",
    "                                              + \")\")\n",
    "    # Issue with Booleans coming in as bytes and not booleans\n",
    "    cache_performace_df = convert_cache_hit_to_boolean(cache_performace_df)\n",
    "    \n",
    "    # Cache Initial Content\n",
    "    cache_initial_content_df = obtain_df_from_query(\"SELECT * FROM cache_initial_content cic where cic.batch_id in (\"\n",
    "                                              + df_ids_to_string(batches_df)\n",
    "                                              + \")\")\n",
    "    # Cache Remainder\n",
    "    cache_remainder_df = obtain_df_from_query(\"SELECT * FROM cache_remainder cr where cr.batch_id in (\"\n",
    "                                              + df_ids_to_string(batches_df)\n",
    "                                              + \")\")\n",
    "\n",
    "    # Separate data into dictionary based on batches\n",
    "    cache_performance_per_batch = {}\n",
    "    cache_initial_content_per_batch = {}\n",
    "    cache_remainder_per_batch = {}\n",
    "    batch_ids = batches_df.id.unique().tolist()\n",
    "    for batch_id in batch_ids :\n",
    "        query_for_df = \"batch_id == '\" + str(batch_id) + \"'\"\n",
    "        cache_performance_per_batch[batch_id] = cache_performace_df.query(query_for_df)\n",
    "        cache_initial_content_per_batch[batch_id] = cache_initial_content_df.query(query_for_df)\n",
    "        cache_remainder_per_batch[batch_id] = cache_remainder_df.query(query_for_df)\n",
    "    \n",
    "    # Compute the Cache Performance Metrics\n",
    "    cache_performance_metrics = []\n",
    "    for batch_id in batch_ids :\n",
    "        cp_df = cache_performance_per_batch[batch_id]\n",
    "        cic_df = cache_initial_content_per_batch[batch_id]\n",
    "        cr_df = cache_remainder_per_batch[batch_id]\n",
    "        \n",
    "        print(\"For batch id :\", batch_id)\n",
    "        \n",
    "        # Cache MB in Cache at Start\n",
    "        initial_full_cache_size_mb = cache_size_mb_from_cache_content(cic_df)\n",
    "        print(\"Cache Size at start of testing :\", initial_full_cache_size_mb, \" MB\")\n",
    "        \n",
    "        # Calculate Hit Ratio\n",
    "        cp_df_hit = cp_df.query(\"cache_hit\")\n",
    "        cp_df_miss = cp_df.query(\"cache_hit == False\")\n",
    "        hit_size = cp_df_hit.shape[0]\n",
    "        miss_size = cp_df_miss.shape[0]\n",
    "        cache_performance_metric = CachePerformanceMetric(hit_size, miss_size)\n",
    "        cache_performance_metrics.append(cache_performance_metric)\n",
    "        print(\"Cache Hits \", cache_performance_metric.cache_hit_size, \", Misses :\", \n",
    "              cache_performance_metric.cache_miss_size, \" Hit Ratio :\", cache_performance_metric.hit_ratio)\n",
    "        \n",
    "        # Cache MB in Cache at End\n",
    "        end_full_cache_size_mb = cache_size_mb_from_cache_content(cr_df)\n",
    "        print(\"Cache Size at end of testing :\", end_full_cache_size_mb, \" MB\")\n",
    "        \n",
    "        # Print line at the end\n",
    "        print(\"------------------------------------------------------------------------------------------------------\")\n",
    "    \n",
    "     \n",
    "    # Average Hit Ratio\n",
    "    average_hit_ratio = compute_average_hit_ratio(cache_performance_metrics)\n",
    "    print(\"Average Hit Ratio :\", average_hit_ratio)\n",
    "    \n",
    "    # Generate the important data made from this incase it is needed elsewhere\n",
    "    main_analyse_data = MainCacheAnalyseData(batch_ids, cache_performance_metrics, cache_initial_content_per_batch,\n",
    "                                            cache_performance_per_batch, cache_remainder_per_batch)\n",
    "    \n",
    "    # Tried being smart but dictionary was just easiest way to go\n",
    "    return dict(main_analyse_data)"
   ]
  },
  {
   "cell_type": "markdown",
   "metadata": {},
   "source": [
    "#### Obtain Batch Info from Id"
   ]
  },
  {
   "cell_type": "code",
   "execution_count": 12,
   "metadata": {},
   "outputs": [],
   "source": [
    "def obtain_batch_info(batch_id):\n",
    "    batch_info = batch_df.query(\"id == \" + str(batch_id))\n",
    "    return batch_info"
   ]
  },
  {
   "cell_type": "markdown",
   "metadata": {},
   "source": [
    "#### Plot Avg Hit Ratio"
   ]
  },
  {
   "cell_type": "code",
   "execution_count": 13,
   "metadata": {},
   "outputs": [],
   "source": [
    "def plot_avg_hit_ratio(graph_title, *cache_analyse_data):\n",
    "    if(len(cache_analyse_data) <= 0):\n",
    "        print(\"Can't plot what I don't have\")\n",
    "        return\n",
    "    cache_list = []\n",
    "    avg_hit_ratio_list = []\n",
    "    # Going to assume that all batch ids of main data analyse point to same cache type\n",
    "    for main_cache_analyse_data in  cache_analyse_data:\n",
    "        batch_info = obtain_batch_info(main_cache_analyse_data[\"batch_ids\"][0])\n",
    "        avg_hit_ratio = compute_average_hit_ratio(main_cache_analyse_data[\"cache_performance_metrics\"])\n",
    "        cache_type = batch_info.cache_type.tolist()[0]\n",
    "        cache_list.append(cache_type)\n",
    "        avg_hit_ratio_list.append(avg_hit_ratio)\n",
    "    \n",
    "    d = {\"cache\": cache_list, \"avg_hit_ratio\" : avg_hit_ratio_list}\n",
    "    df = pd.DataFrame(data=d)\n",
    "    fig, ax = plt.subplots()\n",
    "\n",
    "    df['avg_hit_ratio'].plot.bar()\n",
    "\n",
    "    ax.set_xticklabels(df[\"cache\"], rotation='horizontal')\n",
    "    plt.xlabel('Cache Type')\n",
    "    plt.ylabel('Avg Hit Ratio')\n",
    "    plt.title(graph_title)\n",
    "    plt.show()"
   ]
  },
  {
   "cell_type": "code",
   "execution_count": null,
   "metadata": {},
   "outputs": [],
   "source": []
  },
  {
   "cell_type": "code",
   "execution_count": null,
   "metadata": {},
   "outputs": [],
   "source": []
  },
  {
   "cell_type": "code",
   "execution_count": null,
   "metadata": {},
   "outputs": [],
   "source": []
  },
  {
   "cell_type": "code",
   "execution_count": null,
   "metadata": {},
   "outputs": [],
   "source": []
  },
  {
   "cell_type": "code",
   "execution_count": null,
   "metadata": {},
   "outputs": [],
   "source": []
  },
  {
   "cell_type": "markdown",
   "metadata": {},
   "source": [
    "### Global Data"
   ]
  },
  {
   "cell_type": "code",
   "execution_count": 14,
   "metadata": {},
   "outputs": [],
   "source": [
    "batch_df = read_full_db_table(\"batch\")"
   ]
  },
  {
   "cell_type": "markdown",
   "metadata": {},
   "source": [
    "## Data Import <a class=\"anchor\" id=\"data-import\"></a>\n",
    "***"
   ]
  },
  {
   "cell_type": "code",
   "execution_count": 15,
   "metadata": {},
   "outputs": [
    {
     "name": "stdout",
     "output_type": "stream",
     "text": [
      "ehcache\n",
      "hazelcast\n",
      "memcached\n",
      "redis\n"
     ]
    }
   ],
   "source": [
    "list_of_cache_types = batch_df.cache_type.unique().tolist()\n",
    "for cache_type in list_of_cache_types :\n",
    "    print(cache_type)"
   ]
  },
  {
   "cell_type": "code",
   "execution_count": null,
   "metadata": {},
   "outputs": [],
   "source": []
  },
  {
   "cell_type": "code",
   "execution_count": null,
   "metadata": {},
   "outputs": [],
   "source": []
  },
  {
   "cell_type": "code",
   "execution_count": null,
   "metadata": {},
   "outputs": [],
   "source": []
  },
  {
   "cell_type": "code",
   "execution_count": null,
   "metadata": {},
   "outputs": [],
   "source": []
  },
  {
   "cell_type": "markdown",
   "metadata": {},
   "source": [
    "## Ehcache Data"
   ]
  },
  {
   "cell_type": "markdown",
   "metadata": {},
   "source": [
    "### Ehcache LRU 128 MB"
   ]
  },
  {
   "cell_type": "code",
   "execution_count": 16,
   "metadata": {},
   "outputs": [
    {
     "name": "stdout",
     "output_type": "stream",
     "text": [
      "For batch id : 3\n",
      "Cache Size at start of testing : 127.2470703125  MB\n",
      "Cache Hits  268 , Misses : 3961  Hit Ratio : 0.06337195554504611\n",
      "Cache Size at end of testing : 127.076171875  MB\n",
      "------------------------------------------------------------------------------------------------------\n",
      "Average Hit Ratio : 0.06337195554504611\n"
     ]
    }
   ],
   "source": [
    "ehcache_lru_128_data = crunch_the_data(\"ehcache\", 128, \"LRU\")"
   ]
  },
  {
   "cell_type": "markdown",
   "metadata": {},
   "source": [
    "### Ehcache LRU 256 MB"
   ]
  },
  {
   "cell_type": "code",
   "execution_count": 17,
   "metadata": {},
   "outputs": [
    {
     "name": "stdout",
     "output_type": "stream",
     "text": [
      "For batch id : 1\n",
      "Cache Size at start of testing : 254.6337890625  MB\n",
      "Cache Hits  1084 , Misses : 7576  Hit Ratio : 0.12517321016166283\n",
      "Cache Size at end of testing : 254.306640625  MB\n",
      "------------------------------------------------------------------------------------------------------\n",
      "Average Hit Ratio : 0.12517321016166283\n"
     ]
    }
   ],
   "source": [
    "ehcache_lru_256_data = crunch_the_data(\"ehcache\", 256, \"LRU\")"
   ]
  },
  {
   "cell_type": "markdown",
   "metadata": {},
   "source": [
    "### Ehcache LRU 512 MB"
   ]
  },
  {
   "cell_type": "code",
   "execution_count": 18,
   "metadata": {},
   "outputs": [
    {
     "name": "stdout",
     "output_type": "stream",
     "text": [
      "For batch id : 2\n",
      "Cache Size at start of testing : 509.0322265625  MB\n",
      "Cache Hits  5961 , Misses : 17795  Hit Ratio : 0.25092608183195825\n",
      "Cache Size at end of testing : 508.7724609375  MB\n",
      "------------------------------------------------------------------------------------------------------\n",
      "Average Hit Ratio : 0.25092608183195825\n"
     ]
    }
   ],
   "source": [
    "ehcache_lru_512_data = crunch_the_data(\"ehcache\", 512, \"LRU\")"
   ]
  },
  {
   "cell_type": "markdown",
   "metadata": {},
   "source": [
    "### Ehcache LRU 1024 MB"
   ]
  },
  {
   "cell_type": "code",
   "execution_count": 19,
   "metadata": {},
   "outputs": [
    {
     "name": "stdout",
     "output_type": "stream",
     "text": [
      "For batch id : 4\n",
      "Cache Size at start of testing : 1017.9345703125  MB\n",
      "Cache Hits  36688 , Misses : 35786  Hit Ratio : 0.5062229213235091\n",
      "Cache Size at end of testing : 1017.9248046875  MB\n",
      "------------------------------------------------------------------------------------------------------\n",
      "Average Hit Ratio : 0.5062229213235091\n"
     ]
    }
   ],
   "source": [
    "ehcache_lru_1024_data = crunch_the_data(\"ehcache\", 1024, \"LRU\")"
   ]
  },
  {
   "cell_type": "markdown",
   "metadata": {},
   "source": [
    "## Hazelcast Data"
   ]
  },
  {
   "cell_type": "markdown",
   "metadata": {},
   "source": [
    "### Hazelcast LRU 128 MB"
   ]
  },
  {
   "cell_type": "code",
   "execution_count": 20,
   "metadata": {},
   "outputs": [
    {
     "name": "stdout",
     "output_type": "stream",
     "text": [
      "For batch id : 8\n",
      "Cache Size at start of testing : 127.71875  MB\n",
      "Cache Hits  239 , Misses : 3940  Hit Ratio : 0.05719071548217277\n",
      "Cache Size at end of testing : 132.353515625  MB\n",
      "------------------------------------------------------------------------------------------------------\n",
      "Average Hit Ratio : 0.05719071548217277\n"
     ]
    }
   ],
   "source": [
    "hazelcast_lru_128_data = crunch_the_data(\"hazelcast\", 128, \"LRU\")"
   ]
  },
  {
   "cell_type": "code",
   "execution_count": 21,
   "metadata": {},
   "outputs": [
    {
     "name": "stdout",
     "output_type": "stream",
     "text": [
      "For batch id : 7\n",
      "Cache Size at start of testing : 254.7333984375  MB\n",
      "Cache Hits  848 , Misses : 7583  Hit Ratio : 0.1005811884711185\n",
      "Cache Size at end of testing : 262.1904296875  MB\n",
      "------------------------------------------------------------------------------------------------------\n",
      "Average Hit Ratio : 0.1005811884711185\n"
     ]
    }
   ],
   "source": [
    "hazelcast_lru_256_data = crunch_the_data(\"hazelcast\", 256, \"LRU\")"
   ]
  },
  {
   "cell_type": "code",
   "execution_count": 22,
   "metadata": {},
   "outputs": [
    {
     "name": "stdout",
     "output_type": "stream",
     "text": [
      "For batch id : 5\n",
      "Cache Size at start of testing : 509.4853515625  MB\n",
      "Cache Hits  5861 , Misses : 17805  Hit Ratio : 0.24765486351728216\n",
      "Cache Size at end of testing : 515.3671875  MB\n",
      "------------------------------------------------------------------------------------------------------\n",
      "Average Hit Ratio : 0.24765486351728216\n"
     ]
    }
   ],
   "source": [
    "hazelcast_lru_512_data = crunch_the_data(\"hazelcast\", 512, \"LRU\")"
   ]
  },
  {
   "cell_type": "code",
   "execution_count": 23,
   "metadata": {},
   "outputs": [
    {
     "name": "stdout",
     "output_type": "stream",
     "text": [
      "For batch id : 6\n",
      "Cache Size at start of testing : 1018.1328125  MB\n",
      "Cache Hits  35391 , Misses : 35680  Hit Ratio : 0.49796682191048386\n",
      "Cache Size at end of testing : 1031.755859375  MB\n",
      "------------------------------------------------------------------------------------------------------\n",
      "Average Hit Ratio : 0.49796682191048386\n"
     ]
    }
   ],
   "source": [
    "hazelcast_lru_1024_data = crunch_the_data(\"hazelcast\", 1024, \"LRU\")"
   ]
  },
  {
   "cell_type": "code",
   "execution_count": null,
   "metadata": {},
   "outputs": [],
   "source": []
  },
  {
   "cell_type": "markdown",
   "metadata": {},
   "source": [
    "## Redis Data"
   ]
  },
  {
   "cell_type": "markdown",
   "metadata": {},
   "source": [
    "### Redis LRU 128 MB"
   ]
  },
  {
   "cell_type": "code",
   "execution_count": 24,
   "metadata": {},
   "outputs": [
    {
     "name": "stdout",
     "output_type": "stream",
     "text": [
      "For batch id : 14\n",
      "Cache Size at start of testing : 114.5009765625  MB\n",
      "Cache Hits  212 , Misses : 3922  Hit Ratio : 0.05128205128205128\n",
      "Cache Size at end of testing : 114.6240234375  MB\n",
      "------------------------------------------------------------------------------------------------------\n",
      "Average Hit Ratio : 0.05128205128205128\n"
     ]
    }
   ],
   "source": [
    "redis_lru_128_data = crunch_the_data(\"redis\", 128, \"LRU\")"
   ]
  },
  {
   "cell_type": "code",
   "execution_count": 25,
   "metadata": {},
   "outputs": [],
   "source": [
    "#redis_lru_256_data = crunch_the_data(\"redis\", 256, \"LRU\")"
   ]
  },
  {
   "cell_type": "code",
   "execution_count": 26,
   "metadata": {},
   "outputs": [],
   "source": [
    "#redis_lru_512_data = crunch_the_data(\"redis\", 512, \"LRU\")"
   ]
  },
  {
   "cell_type": "code",
   "execution_count": 27,
   "metadata": {},
   "outputs": [
    {
     "name": "stdout",
     "output_type": "stream",
     "text": [
      "For batch id : 15\n",
      "Cache Size at start of testing : 927.0322265625  MB\n",
      "Cache Hits  556 , Misses : 729  Hit Ratio : 0.43268482490272375\n",
      "Cache Size at end of testing : 0.0  MB\n",
      "------------------------------------------------------------------------------------------------------\n",
      "Average Hit Ratio : 0.43268482490272375\n"
     ]
    }
   ],
   "source": [
    "redis_lru_1024_data = crunch_the_data(\"redis\", 1024, \"LRU\")"
   ]
  },
  {
   "cell_type": "markdown",
   "metadata": {},
   "source": [
    "## Memcached Data"
   ]
  },
  {
   "cell_type": "markdown",
   "metadata": {},
   "source": [
    "### Memcached LRU 128 MB"
   ]
  },
  {
   "cell_type": "code",
   "execution_count": 28,
   "metadata": {},
   "outputs": [
    {
     "name": "stdout",
     "output_type": "stream",
     "text": [
      "For batch id : 13\n",
      "Cache Size at start of testing : 110.03125  MB\n",
      "Cache Hits  239 , Misses : 3928  Hit Ratio : 0.05735541156707463\n",
      "Cache Size at end of testing : 112.39453125  MB\n",
      "------------------------------------------------------------------------------------------------------\n",
      "Average Hit Ratio : 0.05735541156707463\n"
     ]
    }
   ],
   "source": [
    "memcached_lru_128_data = crunch_the_data(\"memcached\", 128, \"LRU\")"
   ]
  },
  {
   "cell_type": "code",
   "execution_count": 29,
   "metadata": {},
   "outputs": [
    {
     "name": "stdout",
     "output_type": "stream",
     "text": [
      "For batch id : 12\n",
      "Cache Size at start of testing : 224.958984375  MB\n",
      "Cache Hits  890 , Misses : 7609  Hit Ratio : 0.10471820214142841\n",
      "Cache Size at end of testing : 230.8115234375  MB\n",
      "------------------------------------------------------------------------------------------------------\n",
      "Average Hit Ratio : 0.10471820214142841\n"
     ]
    }
   ],
   "source": [
    "memcached_lru_256_data = crunch_the_data(\"memcached\", 256, \"LRU\")"
   ]
  },
  {
   "cell_type": "code",
   "execution_count": 30,
   "metadata": {},
   "outputs": [
    {
     "name": "stdout",
     "output_type": "stream",
     "text": [
      "For batch id : 10\n",
      "Cache Size at start of testing : 454.220703125  MB\n",
      "Cache Hits  5438 , Misses : 17651  Hit Ratio : 0.2355234094157391\n",
      "Cache Size at end of testing : 460.2958984375  MB\n",
      "------------------------------------------------------------------------------------------------------\n",
      "Average Hit Ratio : 0.2355234094157391\n"
     ]
    }
   ],
   "source": [
    "memcached_lru_512_data = crunch_the_data(\"memcached\", 512, \"LRU\")"
   ]
  },
  {
   "cell_type": "code",
   "execution_count": 31,
   "metadata": {},
   "outputs": [
    {
     "name": "stdout",
     "output_type": "stream",
     "text": [
      "For batch id : 11\n",
      "Cache Size at start of testing : 921.205078125  MB\n",
      "Cache Hits  28970 , Misses : 35753  Hit Ratio : 0.44759977133322004\n",
      "Cache Size at end of testing : 922.81640625  MB\n",
      "------------------------------------------------------------------------------------------------------\n",
      "Average Hit Ratio : 0.44759977133322004\n"
     ]
    }
   ],
   "source": [
    "memcached_lru_1024_data = crunch_the_data(\"memcached\", 1024, \"LRU\")"
   ]
  },
  {
   "cell_type": "markdown",
   "metadata": {},
   "source": [
    "## 128 MB LRU Comparison"
   ]
  },
  {
   "cell_type": "code",
   "execution_count": 32,
   "metadata": {},
   "outputs": [
    {
     "data": {
      "image/png": "[encoded data removed]",
      "text/plain": [
       "<matplotlib.figure.Figure at 0x10bd35f28>"
      ]
     },
     "metadata": {},
     "output_type": "display_data"
    }
   ],
   "source": [
    "plot_avg_hit_ratio(\"128MB LRU Cache Avg Hit Rate\", \n",
    "                    ehcache_lru_128_data, \n",
    "                    hazelcast_lru_128_data, \n",
    "                    memcached_lru_128_data,\n",
    "                    redis_lru_128_data)"
   ]
  },
  {
   "cell_type": "markdown",
   "metadata": {},
   "source": [
    "## 256 MB LRU Comparison"
   ]
  },
  {
   "cell_type": "code",
   "execution_count": 33,
   "metadata": {},
   "outputs": [
    {
     "data": {
      "image/png": "[encoded data removed]",
      "text/plain": [
       "<matplotlib.figure.Figure at 0x10d3125c0>"
      ]
     },
     "metadata": {},
     "output_type": "display_data"
    }
   ],
   "source": [
    "plot_avg_hit_ratio(\"256MB LRU Cache Avg Hit Rate\", \n",
    "                    ehcache_lru_256_data, \n",
    "                    hazelcast_lru_256_data, \n",
    "                    memcached_lru_256_data)"
   ]
  },
  {
   "cell_type": "markdown",
   "metadata": {},
   "source": [
    "## 512 MB LRU Comparison"
   ]
  },
  {
   "cell_type": "code",
   "execution_count": 34,
   "metadata": {},
   "outputs": [
    {
     "data": {
      "image/png": "[encoded data removed]",
      "text/plain": [
       "<matplotlib.figure.Figure at 0x10e41e4e0>"
      ]
     },
     "metadata": {},
     "output_type": "display_data"
    }
   ],
   "source": [
    "plot_avg_hit_ratio(\"512MB LRU Cache Avg Hit Rate\", \n",
    "                    ehcache_lru_512_data, \n",
    "                    hazelcast_lru_512_data, \n",
    "                    memcached_lru_512_data)"
   ]
  },
  {
   "cell_type": "markdown",
   "metadata": {},
   "source": [
    "## 1024 MB LRU Comparison"
   ]
  },
  {
   "cell_type": "code",
   "execution_count": 35,
   "metadata": {},
   "outputs": [
    {
     "data": {
      "image/png": "[encoded data removed]",
      "text/plain": [
       "<matplotlib.figure.Figure at 0x10e2daac8>"
      ]
     },
     "metadata": {},
     "output_type": "display_data"
    }
   ],
   "source": [
    "plot_avg_hit_ratio(\"1024MB LRU Cache Avg Hit Rate\", \n",
    "                    ehcache_lru_1024_data, \n",
    "                    hazelcast_lru_1024_data,\n",
    "                    memcached_lru_1024_data,\n",
    "                    redis_lru_1024_data)"
   ]
  }
 ],
 "metadata": {
  "kernelspec": {
   "display_name": "Python 3",
   "language": "python",
   "name": "python3"
  },
  "language_info": {
   "codemirror_mode": {
    "name": "ipython",
    "version": 3
   },
   "file_extension": ".py",
   "mimetype": "text/x-python",
   "name": "python",
   "nbconvert_exporter": "python",
   "pygments_lexer": "ipython3",
   "version": "3.6.4"
  }
 },
 "nbformat": 4,
 "nbformat_minor": 2
}
