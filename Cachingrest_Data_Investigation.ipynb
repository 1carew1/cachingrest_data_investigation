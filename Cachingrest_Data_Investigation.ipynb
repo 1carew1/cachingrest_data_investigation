{
 "cells": [
  {
   "cell_type": "code",
   "execution_count": 1,
   "metadata": {},
   "outputs": [],
   "source": [
    "%matplotlib inline "
   ]
  },
  {
   "cell_type": "markdown",
   "metadata": {},
   "source": [
    "# Caching Rest Data Investigation\n",
    "***"
   ]
  },
  {
   "cell_type": "markdown",
   "metadata": {},
   "source": [
    "## Table of Contents\n",
    "***"
   ]
  },
  {
   "cell_type": "markdown",
   "metadata": {},
   "source": [
    "## Aim <a class=\"anchor\" id=\"aim\"></a>\n",
    "***\n",
    "\n",
    "The aim of this notebook is to do some Exploratory data analysis on the data obtained from the Caching Rest Application"
   ]
  },
  {
   "cell_type": "markdown",
   "metadata": {},
   "source": [
    "## Code Setup <a class=\"anchor\" id=\"code-setup\"></a>\n",
    "***"
   ]
  },
  {
   "cell_type": "markdown",
   "metadata": {},
   "source": [
    "### Import Libraries"
   ]
  },
  {
   "cell_type": "code",
   "execution_count": 2,
   "metadata": {},
   "outputs": [],
   "source": [
    "import pymysql\n",
    "import pandas as pd\n",
    "import sys\n",
    "import os\n",
    "import numpy as np\n",
    "import matplotlib.pyplot as plt\n",
    "import seaborn as sns\n",
    "sns.set_style(\"darkgrid\")\n",
    "from IPython.core.display import HTML\n",
    "HTML(\"\"\"\n",
    "<style>\n",
    ".output_png {\n",
    "    display: table-cell;\n",
    "    text-align: center;\n",
    "    vertical-align: middle;\n",
    "}\n",
    "</style>\n",
    "\"\"\")\n",
    "plt.rcParams['figure.figsize'] = 14, 8"
   ]
  },
  {
   "cell_type": "markdown",
   "metadata": {},
   "source": [
    "### Custom Classes"
   ]
  },
  {
   "cell_type": "code",
   "execution_count": 3,
   "metadata": {},
   "outputs": [],
   "source": [
    "class CachePerformanceMetric:\n",
    "    def __init__(self, cache_hit_size, cache_miss_size):\n",
    "        self.cache_hit_size = cache_hit_size\n",
    "        self.cache_miss_size = cache_miss_size\n",
    "        self.total_size = cache_hit_size + cache_miss_size\n",
    "        self.hit_ratio = cache_hit_size/self.total_size\n",
    "    \n",
    "    def __repr__(self):\n",
    "        return \"Hit Ratio : \" + str(self.hit_ratio)\n",
    "\n",
    "class MainCacheAnalyseData:\n",
    "    def __init__(self, batch_ids, cache_performance_metrics, cache_initial_content_per_batch,\n",
    "                cache_performance_per_batch, cache_remainder_per_batch, agg_df):\n",
    "        self.batch_ids = batch_ids\n",
    "        self.cache_performance_metrics = cache_performance_metrics\n",
    "        self.cache_initial_content_per_batch = cache_initial_content_per_batch\n",
    "        self.cache_performance_per_batch = cache_performance_per_batch\n",
    "        self.cache_remainder_per_batch = cache_remainder_per_batch\n",
    "        self.agg_df = agg_df\n",
    "    def __iter__(self):\n",
    "        yield 'batch_ids', self.batch_ids\n",
    "        yield 'cache_performance_metrics', self.cache_performance_metrics\n",
    "        yield 'cache_initial_content_per_batch', self.cache_initial_content_per_batch\n",
    "        yield 'cache_performance_per_batch', self.cache_performance_per_batch\n",
    "        yield 'cache_remainder_per_batch', self.cache_remainder_per_batch\n",
    "        yield 'agg_df', self.agg_df"
   ]
  },
  {
   "cell_type": "markdown",
   "metadata": {},
   "source": [
    "### Constants"
   ]
  },
  {
   "cell_type": "code",
   "execution_count": 4,
   "metadata": {},
   "outputs": [],
   "source": [
    "db_connection = pymysql.connect(\"pidb\",\"dbuser\",\"password\",\"cachetest\" )"
   ]
  },
  {
   "cell_type": "markdown",
   "metadata": {},
   "source": [
    "### Useful Functions"
   ]
  },
  {
   "cell_type": "markdown",
   "metadata": {},
   "source": [
    "#### Table Read"
   ]
  },
  {
   "cell_type": "code",
   "execution_count": 5,
   "metadata": {},
   "outputs": [],
   "source": [
    "def read_full_db_table(table_name):\n",
    "    return pd.read_sql('SELECT * FROM ' + table_name, con=db_connection)"
   ]
  },
  {
   "cell_type": "markdown",
   "metadata": {},
   "source": [
    "#### Query to Dataframe"
   ]
  },
  {
   "cell_type": "code",
   "execution_count": 6,
   "metadata": {},
   "outputs": [],
   "source": [
    "def obtain_df_from_query(query_string):\n",
    "    return pd.read_sql(query_string, con=db_connection)"
   ]
  },
  {
   "cell_type": "markdown",
   "metadata": {},
   "source": [
    "#### Cache Hit Bytes to Boolean"
   ]
  },
  {
   "cell_type": "code",
   "execution_count": 7,
   "metadata": {},
   "outputs": [],
   "source": [
    "def convert_cache_hit_to_boolean(df):\n",
    "    df.cache_hit = df.cache_hit.map({b'\\x00' : False, b'\\x01' : True})\n",
    "    return df"
   ]
  },
  {
   "cell_type": "markdown",
   "metadata": {},
   "source": [
    "#### DF ids to comma seperated string"
   ]
  },
  {
   "cell_type": "code",
   "execution_count": 8,
   "metadata": {},
   "outputs": [],
   "source": [
    "def df_ids_to_string(df):\n",
    "    id_list = df.id.tolist()\n",
    "    id_list = [str(i) for i in id_list]\n",
    "    return ','.join(id_list)"
   ]
  },
  {
   "cell_type": "markdown",
   "metadata": {},
   "source": [
    "#### Compute Average Hit Ratio"
   ]
  },
  {
   "cell_type": "code",
   "execution_count": 9,
   "metadata": {},
   "outputs": [],
   "source": [
    "def compute_average_hit_ratio(agg_df):\n",
    "    average_hit_ratio = 0\n",
    "    hit_ratio_list = agg_df.hit_ratio.tolist()\n",
    "    for hit_ratio in hit_ratio_list:\n",
    "        average_hit_ratio = average_hit_ratio + hit_ratio\n",
    "    average_hit_ratio = average_hit_ratio/(len(hit_ratio_list))\n",
    "    return average_hit_ratio"
   ]
  },
  {
   "cell_type": "markdown",
   "metadata": {},
   "source": [
    "#### Compute Cache Size from Dataframe"
   ]
  },
  {
   "cell_type": "code",
   "execution_count": 10,
   "metadata": {},
   "outputs": [],
   "source": [
    "def cache_size_mb_from_cache_content(df):\n",
    "    return (df[[\"file_sizekb\"]].sum().values[0])/1024"
   ]
  },
  {
   "cell_type": "markdown",
   "metadata": {},
   "source": [
    "#### DF to Latex Table"
   ]
  },
  {
   "cell_type": "code",
   "execution_count": 11,
   "metadata": {},
   "outputs": [],
   "source": [
    "# I know there is a to_latex method but it wasn't outputting how I wanted it\n",
    "def write_df_to_latex_table(df, file_name, table_caption):\n",
    "    table_label = table_caption.replace(\" \", \"_\")\n",
    "    with open(output_dir + file_name, \"w\") as f:\n",
    "        f.write(\"\\\\begin{table}[h!]\\n\")\n",
    "        f.write(\"\\\\begin{center}\\n\")\n",
    "        #f.write(\"\\\\resizebox{\\\\textwidth}{!}{\\n\")\n",
    "        f.write(\"\\\\begin{tabular}{|\" + \"\".join([\"c\"] * len(df.columns)) + \"|}\\n\")\n",
    "        f.write(\"\\\\hline \\n\")\n",
    "        f.write(\" & \".join([str(x).replace(\"_\", \" \") for x in df.columns.values]) + \" \\\\\\\\ [0.5ex] \\n\")\n",
    "        f.write(\"\\\\hline \\\\hline \\n\")\n",
    "        for i, row in df.iterrows():\n",
    "            f.write(\" & \".join([str(x).replace(\"_\", \" \") for x in row.values]) + \" \\\\\\\\\\n\")\n",
    "            f.write(\"\\\\hline \\n\")\n",
    "        f.write(\"\\\\end{tabular} \\n\")\n",
    "        #f.write(\"} \\n\")\n",
    "        f.write(\"\\\\caption{\" + table_caption + \"} \\n\")\n",
    "        f.write(\"\\\\label{table:\" + table_label + \"} \\n\")\n",
    "        f.write(\"\\\\end{center} \\n\")\n",
    "        f.write(\"\\\\end{table}\")"
   ]
  },
  {
   "cell_type": "markdown",
   "metadata": {},
   "source": [
    "#### Process a Set of Parameters"
   ]
  },
  {
   "cell_type": "code",
   "execution_count": 12,
   "metadata": {},
   "outputs": [],
   "source": [
    "def crunch_the_data(cache_type, cache_size_mb, eviction_policy):\n",
    "    query_for_batch = (\"cache_type == '\" + cache_type + \"' and cache_size_mb == '\" + str(cache_size_mb) \n",
    "                       + \"' and eviction_policy == '\" + eviction_policy + \"'\")\n",
    "    # Batches fitting criteria\n",
    "    batches_df = batch_df.query(query_for_batch)\n",
    "    \n",
    "    if(batches_df.empty):\n",
    "        print(\"Sorry, No batches for :\", cache_type, \",\", cache_size_mb, \",\",  eviction_policy)\n",
    "        return None\n",
    "    \n",
    "    # Cache Performance\n",
    "    cp_query = (\"SELECT * FROM cache_performance where batch_id in (\"\n",
    "                                              + df_ids_to_string(batches_df)\n",
    "                                              + \")\")\n",
    "    cache_performace_df = obtain_df_from_query(cp_query)\n",
    "    # Issue with Booleans coming in as bytes and not booleans\n",
    "    cache_performace_df = convert_cache_hit_to_boolean(cache_performace_df)\n",
    "    \n",
    "    # Cache Initial Content\n",
    "    cache_initial_content_df = obtain_df_from_query(\"SELECT * FROM cache_initial_content where batch_id in (\"\n",
    "                                              + df_ids_to_string(batches_df)\n",
    "                                              + \")\")\n",
    "    # Cache Remainder\n",
    "    cache_remainder_df = obtain_df_from_query(\"SELECT * FROM cache_remainder where batch_id in (\"\n",
    "                                              + df_ids_to_string(batches_df)\n",
    "                                              + \")\")\n",
    "\n",
    "    # Separate data into dictionary based on batches\n",
    "    cache_performance_per_batch = {}\n",
    "    cache_initial_content_per_batch = {}\n",
    "    cache_remainder_per_batch = {}\n",
    "    batch_ids = batches_df.id.unique().tolist()\n",
    "    for batch_id in batch_ids :\n",
    "        query_for_df = \"batch_id == \" + str(batch_id)\n",
    "        cache_performance_per_batch[batch_id] = cache_performace_df.query(query_for_df)\n",
    "        cache_initial_content_per_batch[batch_id] = cache_initial_content_df.query(query_for_df)\n",
    "        cache_remainder_per_batch[batch_id] = cache_remainder_df.query(query_for_df)\n",
    "    \n",
    "    # Compute the Cache Performance Metrics\n",
    "    cache_performance_metrics = []\n",
    "    cache_size_mb_initial_list = []\n",
    "    element_count_at_start_list = []\n",
    "    element_count_testing_list = []\n",
    "    number_of_hits_list = []\n",
    "    number_of_misses_list = []\n",
    "    hit_ratio_list = []\n",
    "    cache_size_mb_end_list = []\n",
    "    element_count_at_end_list = []\n",
    "    \n",
    "    for batch_id in batch_ids :\n",
    "        cp_df = cache_performance_per_batch[batch_id]\n",
    "        cic_df = cache_initial_content_per_batch[batch_id]\n",
    "        cr_df = cache_remainder_per_batch[batch_id]\n",
    "        \n",
    "        # Cache MB in Cache at Start\n",
    "        initial_full_cache_size_mb = cache_size_mb_from_cache_content(cic_df)\n",
    "        element_count_at_start = cic_df.shape[0]\n",
    "        \n",
    "        element_count_testing = cp_df.shape[0]\n",
    "        # Calculate Hit Ratio\n",
    "        cp_df_hit = cp_df.query(\"cache_hit\")\n",
    "        cp_df_miss = cp_df.query(\"cache_hit == False\")\n",
    "        hit_size = cp_df_hit.shape[0]\n",
    "        miss_size = cp_df_miss.shape[0]\n",
    "        cache_performance_metric = CachePerformanceMetric(hit_size, miss_size)\n",
    "        cache_performance_metrics.append(cache_performance_metric)\n",
    "        \n",
    "        # Cache MB in Cache at End\n",
    "        end_full_cache_size_mb = cache_size_mb_from_cache_content(cr_df)\n",
    "        element_count_at_end = cr_df.shape[0]\n",
    "        \n",
    "        # Add Aggregate Data to lists\n",
    "        cache_size_mb_initial_list.append(initial_full_cache_size_mb)\n",
    "        element_count_at_start_list.append(element_count_at_start)\n",
    "        element_count_testing_list.append(element_count_testing)\n",
    "        number_of_hits_list.append(hit_size)\n",
    "        number_of_misses_list.append(miss_size)\n",
    "        hit_ratio_list.append(cache_performance_metric.hit_ratio)\n",
    "        cache_size_mb_end_list.append(end_full_cache_size_mb)\n",
    "        element_count_at_end_list.append(element_count_at_end)\n",
    "   \n",
    "    # Gen Aggregate Data DF\n",
    "    agg_data = {\"batch_id\": batch_ids, \n",
    "                \"cache_size_mb_start\" : cache_size_mb_initial_list,\n",
    "                \"element_count_start\" : element_count_at_start_list,\n",
    "                \"element_count_sent\" : element_count_testing_list,\n",
    "                \"hits\" : number_of_hits_list,\n",
    "                \"misses\" : number_of_misses_list,\n",
    "                \"hit_ratio\" : hit_ratio_list,\n",
    "                \"cache_size_mb_end\" : cache_size_mb_end_list,\n",
    "                \"element_count_end\" : element_count_at_end_list\n",
    "                }\n",
    "    agg_df = pd.DataFrame(data=agg_data)\n",
    "     \n",
    "    # Average Hit Ratio\n",
    "    average_hit_ratio = compute_average_hit_ratio(agg_df)\n",
    "    print(\"Average Hit Ratio :\", average_hit_ratio)\n",
    "    \n",
    "    # Generate the important data made from this incase it is needed elsewhere\n",
    "    main_analyse_data = MainCacheAnalyseData(batch_ids, cache_performance_metrics, cache_initial_content_per_batch,\n",
    "                                            cache_performance_per_batch, cache_remainder_per_batch, agg_df)\n",
    "    \n",
    "    # Export the Agg Data\n",
    "    agg_file_name = cache_type + \"_\" + str(cache_size_mb) + \"MB_\" + eviction_policy\n",
    "    table_caption = cache_type + \" \" + str(cache_size_mb) + \"MB \" + eviction_policy\n",
    "    # Too many columns so need to split\n",
    "    write_df_to_latex_table(agg_df[[\"batch_id\", \n",
    "                                    \"cache_size_mb_start\", \n",
    "                                    \"cache_size_mb_end\",\n",
    "                                    \"element_count_start\",\n",
    "                                    \"element_count_end\"]], agg_file_name + \"_size.tex\", table_caption + \" Sizes\")\n",
    "\n",
    "    write_df_to_latex_table(agg_df[[\"batch_id\", \n",
    "                                    \"element_count_sent\", \n",
    "                                    \"hits\",\n",
    "                                    \"misses\",\n",
    "                                    \"hit_ratio\"]], agg_file_name + \"_ratio.tex\", table_caption + \" Hit Ratio\")\n",
    "    \n",
    "    # Tried being smart but dictionary was just easiest way to go\n",
    "    return dict(main_analyse_data)"
   ]
  },
  {
   "cell_type": "markdown",
   "metadata": {},
   "source": [
    "#### Obtain Batch Info from Id"
   ]
  },
  {
   "cell_type": "code",
   "execution_count": 13,
   "metadata": {},
   "outputs": [],
   "source": [
    "def obtain_batch_info(batch_id):\n",
    "    batch_info = batch_df.query(\"id == \" + str(batch_id))\n",
    "    return batch_info"
   ]
  },
  {
   "cell_type": "markdown",
   "metadata": {},
   "source": [
    "#### Plot Avg Hit Ratio"
   ]
  },
  {
   "cell_type": "code",
   "execution_count": 14,
   "metadata": {},
   "outputs": [],
   "source": [
    "def plot_avg_hit_ratio(graph_title, *cache_analyse_data):\n",
    "    if(len(cache_analyse_data) <= 0):\n",
    "        print(\"Can't plot what I don't have\")\n",
    "        return\n",
    "    cache_list = []\n",
    "    avg_hit_ratio_list = []\n",
    "    # Going to assume that all batch ids of main data analyse point to same cache type\n",
    "    for main_cache_analyse_data in  cache_analyse_data:\n",
    "        batch_info = obtain_batch_info(main_cache_analyse_data[\"batch_ids\"][0])\n",
    "        avg_hit_ratio = compute_average_hit_ratio(main_cache_analyse_data[\"agg_df\"])\n",
    "        cache_type = batch_info.cache_type.tolist()[0]\n",
    "        cache_size = batch_info.cache_size_mb.tolist()[0]\n",
    "        eviction_policy = batch_info.eviction_policy.tolist()[0]\n",
    "        cache_list.append(cache_type + \"-\" + str(cache_size) + \"MB-\" + eviction_policy)\n",
    "        avg_hit_ratio_list.append(avg_hit_ratio)\n",
    "    \n",
    "    d = {\"cache\": cache_list, \"avg_hit_ratio\" : avg_hit_ratio_list}\n",
    "    df = pd.DataFrame(data=d)\n",
    "    fig, ax = plt.subplots()\n",
    "\n",
    "    df['avg_hit_ratio'].plot.bar()\n",
    "\n",
    "    ax.set_xticklabels(df[\"cache\"], rotation='vertical')\n",
    "    plt.xlabel('Cache Type')\n",
    "    plt.ylabel('Avg Hit Ratio')\n",
    "    plt.title(graph_title)\n",
    "    plt.show()\n",
    "    file_name = graph_title.replace(\" \", \"_\") + \".pdf\"\n",
    "    fig.savefig(output_dir + file_name, bbox_inches='tight')"
   ]
  },
  {
   "cell_type": "markdown",
   "metadata": {},
   "source": [
    "#### Plot Cache Size vs Hit Ratio For a Single Cache Type and Replacement Algorithm"
   ]
  },
  {
   "cell_type": "code",
   "execution_count": 15,
   "metadata": {},
   "outputs": [],
   "source": [
    "def plot_cache_size_vs_avg_hit_ratio(*cache_analyse_data):\n",
    "    if(len(cache_analyse_data) <= 0):\n",
    "        print(\"Can't plot what I don't have\")\n",
    "        return\n",
    "    cache_list = []\n",
    "    eviction_policy_list = []\n",
    "    cache_size_list = []\n",
    "    avg_hit_ratio_list = []\n",
    "    # Going to assume that all batch ids of main data analyse point to same cache type and size\n",
    "    # Also going to assume that all analyse data fed into this method belong to same cache type and eviction policy\n",
    "    for main_cache_analyse_data in  cache_analyse_data:\n",
    "        batch_info = obtain_batch_info(main_cache_analyse_data[\"batch_ids\"][0])\n",
    "        avg_hit_ratio = compute_average_hit_ratio(main_cache_analyse_data[\"agg_df\"])\n",
    "        cache_type = batch_info.cache_type.tolist()[0]\n",
    "        cache_size = batch_info.cache_size_mb.tolist()[0]\n",
    "        eviction_policy = batch_info.eviction_policy.tolist()[0]\n",
    "        \n",
    "        cache_list.append(cache_type)\n",
    "        eviction_policy_list.append(eviction_policy)\n",
    "        cache_size_list.append(int(cache_size))\n",
    "        avg_hit_ratio_list.append(avg_hit_ratio)\n",
    "        \n",
    "    \n",
    "    if(len(set(cache_list)) != 1) or (len(set(eviction_policy_list)) != 1):\n",
    "        print(\"The cache type and eviction policy must be constant to use this function only cache size may change\")\n",
    "        return\n",
    "    \n",
    "    fig, ax = plt.subplots()\n",
    "    \n",
    "    title = \"Avg Hit Ratio vs Cache size for \" + cache_list[0] + \" \" + eviction_policy_list[0]\n",
    "    d = {\"cache_size\": cache_size_list, \"avg_hit_ratio\" : avg_hit_ratio_list}\n",
    "    df = pd.DataFrame(data=d)\n",
    "    df = df.sort_values(by=[\"cache_size\"], ascending=True)\n",
    "                                      \n",
    "    plt.plot(df[\"cache_size\"], df[\"avg_hit_ratio\"], \"-o\")\n",
    "    plt.xlabel('Cache Size (MB)')\n",
    "    plt.ylabel('Avg Hit Ratio')\n",
    "    plt.title(title)\n",
    "    plt.show()"
   ]
  },
  {
   "cell_type": "markdown",
   "metadata": {},
   "source": [
    "#### Plot Cache Size vs Hit Ratio For Multiple Caches"
   ]
  },
  {
   "cell_type": "code",
   "execution_count": 16,
   "metadata": {},
   "outputs": [],
   "source": [
    "def plot_cache_size_vs_avg_hit_ratio_multiple(*cache_analyse_data_list):\n",
    "    if(len(cache_analyse_data_list) <= 0):\n",
    "        print(\"Can't plot what I don't have\")\n",
    "        return\n",
    "    \n",
    "    legend=[]\n",
    "    file_name = \"line_plot\"\n",
    "    fig, ax = plt.subplots()\n",
    "    for cache_analyse_data in cache_analyse_data_list:\n",
    "        cache_list = []\n",
    "        eviction_policy_list = []\n",
    "        cache_size_list = []\n",
    "        avg_hit_ratio_list = []\n",
    "        # Going to assume that all batch ids of main data analyse point to same cache type and size\n",
    "        # Also going to assume that all analyse data fed into this method belong to same cache type and eviction policy\n",
    "        for main_cache_analyse_data in  cache_analyse_data:\n",
    "            batch_info = obtain_batch_info(main_cache_analyse_data[\"batch_ids\"][0])\n",
    "            avg_hit_ratio = compute_average_hit_ratio(main_cache_analyse_data[\"agg_df\"])\n",
    "            cache_type = batch_info.cache_type.tolist()[0]\n",
    "            cache_size = batch_info.cache_size_mb.tolist()[0]\n",
    "            eviction_policy = batch_info.eviction_policy.tolist()[0]\n",
    "\n",
    "            cache_list.append(cache_type)\n",
    "            eviction_policy_list.append(eviction_policy)\n",
    "            cache_size_list.append(int(cache_size))\n",
    "            avg_hit_ratio_list.append(avg_hit_ratio)\n",
    "\n",
    "        if(len(set(cache_list)) != 1) or (len(set(eviction_policy_list)) != 1):\n",
    "            print(\"The cache type and eviction policy must be constant to use this function only cache size may change\")\n",
    "            return\n",
    "        \n",
    "        file_name = file_name + \"_\" + cache_list[0] + \"_\" + eviction_policy_list[0]\n",
    "        d = {\"cache_size\": cache_size_list, \"avg_hit_ratio\" : avg_hit_ratio_list}\n",
    "        df = pd.DataFrame(data=d)\n",
    "        df = df.sort_values(by=[\"cache_size\"], ascending=True)\n",
    "\n",
    "        plt.plot(df[\"cache_size\"], df[\"avg_hit_ratio\"], \"-o\")\n",
    "        legend.append(cache_list[0] + \" - \" + eviction_policy_list[0])\n",
    "        \n",
    "    plt.xlabel('Cache Size (MB)')\n",
    "    plt.ylabel('Avg Hit Ratio')\n",
    "    plt.title(\"Avg Hit Ratio vs Cache size\")\n",
    "    lg = plt.legend(legend, frameon=True)\n",
    "    lg.get_frame().set_facecolor('white')\n",
    "    plt.show()\n",
    "    fig.savefig(output_dir + file_name + \".pdf\", bbox_inches='tight')"
   ]
  },
  {
   "cell_type": "code",
   "execution_count": null,
   "metadata": {},
   "outputs": [],
   "source": []
  },
  {
   "cell_type": "markdown",
   "metadata": {},
   "source": [
    "### Global Data"
   ]
  },
  {
   "cell_type": "code",
   "execution_count": 17,
   "metadata": {},
   "outputs": [],
   "source": [
    "batch_df = obtain_df_from_query(\"select * from batch where end_date is not null\")"
   ]
  },
  {
   "cell_type": "code",
   "execution_count": 18,
   "metadata": {},
   "outputs": [],
   "source": [
    "output_dir = \"output_data/\"\n",
    "if not os.path.exists(output_dir):\n",
    "    os.makedirs(output_dir)"
   ]
  },
  {
   "cell_type": "markdown",
   "metadata": {},
   "source": [
    "## Ehcache Data"
   ]
  },
  {
   "cell_type": "markdown",
   "metadata": {},
   "source": [
    "### Ehcache LRU 128 MB"
   ]
  },
  {
   "cell_type": "code",
   "execution_count": 19,
   "metadata": {},
   "outputs": [
    {
     "name": "stdout",
     "output_type": "stream",
     "text": [
      "Average Hit Ratio : 0.06337195554504611\n"
     ]
    },
    {
     "data": {
      "text/html": [
       "<div>\n",
       "<style scoped>\n",
       "    .dataframe tbody tr th:only-of-type {\n",
       "        vertical-align: middle;\n",
       "    }\n",
       "\n",
       "    .dataframe tbody tr th {\n",
       "        vertical-align: top;\n",
       "    }\n",
       "\n",
       "    .dataframe thead th {\n",
       "        text-align: right;\n",
       "    }\n",
       "</style>\n",
       "<table border=\"1\" class=\"dataframe\">\n",
       "  <thead>\n",
       "    <tr style=\"text-align: right;\">\n",
       "      <th></th>\n",
       "      <th>batch_id</th>\n",
       "      <th>cache_size_mb_end</th>\n",
       "      <th>cache_size_mb_start</th>\n",
       "      <th>element_count_end</th>\n",
       "      <th>element_count_sent</th>\n",
       "      <th>element_count_start</th>\n",
       "      <th>hit_ratio</th>\n",
       "      <th>hits</th>\n",
       "      <th>misses</th>\n",
       "    </tr>\n",
       "  </thead>\n",
       "  <tbody>\n",
       "    <tr>\n",
       "      <th>0</th>\n",
       "      <td>3</td>\n",
       "      <td>127.076172</td>\n",
       "      <td>127.24707</td>\n",
       "      <td>918</td>\n",
       "      <td>4229</td>\n",
       "      <td>769</td>\n",
       "      <td>0.063372</td>\n",
       "      <td>268</td>\n",
       "      <td>3961</td>\n",
       "    </tr>\n",
       "  </tbody>\n",
       "</table>\n",
       "</div>"
      ],
      "text/plain": [
       "   batch_id  cache_size_mb_end  cache_size_mb_start  element_count_end  \\\n",
       "0         3         127.076172            127.24707                918   \n",
       "\n",
       "   element_count_sent  element_count_start  hit_ratio  hits  misses  \n",
       "0                4229                  769   0.063372   268    3961  "
      ]
     },
     "execution_count": 19,
     "metadata": {},
     "output_type": "execute_result"
    }
   ],
   "source": [
    "ehcache_lru_128_data = crunch_the_data(\"ehcache\", 128, \"LRU\")\n",
    "ehcache_lru_128_data[\"agg_df\"]"
   ]
  },
  {
   "cell_type": "markdown",
   "metadata": {},
   "source": [
    "### Ehcache LRU 256 MB"
   ]
  },
  {
   "cell_type": "code",
   "execution_count": 20,
   "metadata": {},
   "outputs": [
    {
     "name": "stdout",
     "output_type": "stream",
     "text": [
      "Average Hit Ratio : 0.12517321016166283\n"
     ]
    },
    {
     "data": {
      "text/html": [
       "<div>\n",
       "<style scoped>\n",
       "    .dataframe tbody tr th:only-of-type {\n",
       "        vertical-align: middle;\n",
       "    }\n",
       "\n",
       "    .dataframe tbody tr th {\n",
       "        vertical-align: top;\n",
       "    }\n",
       "\n",
       "    .dataframe thead th {\n",
       "        text-align: right;\n",
       "    }\n",
       "</style>\n",
       "<table border=\"1\" class=\"dataframe\">\n",
       "  <thead>\n",
       "    <tr style=\"text-align: right;\">\n",
       "      <th></th>\n",
       "      <th>batch_id</th>\n",
       "      <th>cache_size_mb_end</th>\n",
       "      <th>cache_size_mb_start</th>\n",
       "      <th>element_count_end</th>\n",
       "      <th>element_count_sent</th>\n",
       "      <th>element_count_start</th>\n",
       "      <th>hit_ratio</th>\n",
       "      <th>hits</th>\n",
       "      <th>misses</th>\n",
       "    </tr>\n",
       "  </thead>\n",
       "  <tbody>\n",
       "    <tr>\n",
       "      <th>0</th>\n",
       "      <td>1</td>\n",
       "      <td>254.306641</td>\n",
       "      <td>254.633789</td>\n",
       "      <td>1795</td>\n",
       "      <td>8660</td>\n",
       "      <td>1480</td>\n",
       "      <td>0.125173</td>\n",
       "      <td>1084</td>\n",
       "      <td>7576</td>\n",
       "    </tr>\n",
       "  </tbody>\n",
       "</table>\n",
       "</div>"
      ],
      "text/plain": [
       "   batch_id  cache_size_mb_end  cache_size_mb_start  element_count_end  \\\n",
       "0         1         254.306641           254.633789               1795   \n",
       "\n",
       "   element_count_sent  element_count_start  hit_ratio  hits  misses  \n",
       "0                8660                 1480   0.125173  1084    7576  "
      ]
     },
     "execution_count": 20,
     "metadata": {},
     "output_type": "execute_result"
    }
   ],
   "source": [
    "ehcache_lru_256_data = crunch_the_data(\"ehcache\", 256, \"LRU\")\n",
    "ehcache_lru_256_data[\"agg_df\"]"
   ]
  },
  {
   "cell_type": "markdown",
   "metadata": {},
   "source": [
    "### Ehcache LRU 512 MB"
   ]
  },
  {
   "cell_type": "code",
   "execution_count": 21,
   "metadata": {},
   "outputs": [
    {
     "name": "stdout",
     "output_type": "stream",
     "text": [
      "Average Hit Ratio : 0.25092608183195825\n"
     ]
    },
    {
     "data": {
      "text/html": [
       "<div>\n",
       "<style scoped>\n",
       "    .dataframe tbody tr th:only-of-type {\n",
       "        vertical-align: middle;\n",
       "    }\n",
       "\n",
       "    .dataframe tbody tr th {\n",
       "        vertical-align: top;\n",
       "    }\n",
       "\n",
       "    .dataframe thead th {\n",
       "        text-align: right;\n",
       "    }\n",
       "</style>\n",
       "<table border=\"1\" class=\"dataframe\">\n",
       "  <thead>\n",
       "    <tr style=\"text-align: right;\">\n",
       "      <th></th>\n",
       "      <th>batch_id</th>\n",
       "      <th>cache_size_mb_end</th>\n",
       "      <th>cache_size_mb_start</th>\n",
       "      <th>element_count_end</th>\n",
       "      <th>element_count_sent</th>\n",
       "      <th>element_count_start</th>\n",
       "      <th>hit_ratio</th>\n",
       "      <th>hits</th>\n",
       "      <th>misses</th>\n",
       "    </tr>\n",
       "  </thead>\n",
       "  <tbody>\n",
       "    <tr>\n",
       "      <th>0</th>\n",
       "      <td>2</td>\n",
       "      <td>508.772461</td>\n",
       "      <td>509.032227</td>\n",
       "      <td>3777</td>\n",
       "      <td>23756</td>\n",
       "      <td>3525</td>\n",
       "      <td>0.250926</td>\n",
       "      <td>5961</td>\n",
       "      <td>17795</td>\n",
       "    </tr>\n",
       "  </tbody>\n",
       "</table>\n",
       "</div>"
      ],
      "text/plain": [
       "   batch_id  cache_size_mb_end  cache_size_mb_start  element_count_end  \\\n",
       "0         2         508.772461           509.032227               3777   \n",
       "\n",
       "   element_count_sent  element_count_start  hit_ratio  hits  misses  \n",
       "0               23756                 3525   0.250926  5961   17795  "
      ]
     },
     "execution_count": 21,
     "metadata": {},
     "output_type": "execute_result"
    }
   ],
   "source": [
    "ehcache_lru_512_data = crunch_the_data(\"ehcache\", 512, \"LRU\")\n",
    "ehcache_lru_512_data[\"agg_df\"]"
   ]
  },
  {
   "cell_type": "markdown",
   "metadata": {},
   "source": [
    "### Ehcache LRU 1024 MB"
   ]
  },
  {
   "cell_type": "code",
   "execution_count": 22,
   "metadata": {},
   "outputs": [
    {
     "name": "stdout",
     "output_type": "stream",
     "text": [
      "Average Hit Ratio : 0.5062229213235091\n"
     ]
    },
    {
     "data": {
      "text/html": [
       "<div>\n",
       "<style scoped>\n",
       "    .dataframe tbody tr th:only-of-type {\n",
       "        vertical-align: middle;\n",
       "    }\n",
       "\n",
       "    .dataframe tbody tr th {\n",
       "        vertical-align: top;\n",
       "    }\n",
       "\n",
       "    .dataframe thead th {\n",
       "        text-align: right;\n",
       "    }\n",
       "</style>\n",
       "<table border=\"1\" class=\"dataframe\">\n",
       "  <thead>\n",
       "    <tr style=\"text-align: right;\">\n",
       "      <th></th>\n",
       "      <th>batch_id</th>\n",
       "      <th>cache_size_mb_end</th>\n",
       "      <th>cache_size_mb_start</th>\n",
       "      <th>element_count_end</th>\n",
       "      <th>element_count_sent</th>\n",
       "      <th>element_count_start</th>\n",
       "      <th>hit_ratio</th>\n",
       "      <th>hits</th>\n",
       "      <th>misses</th>\n",
       "    </tr>\n",
       "  </thead>\n",
       "  <tbody>\n",
       "    <tr>\n",
       "      <th>0</th>\n",
       "      <td>4</td>\n",
       "      <td>1017.924805</td>\n",
       "      <td>1017.93457</td>\n",
       "      <td>7578</td>\n",
       "      <td>72474</td>\n",
       "      <td>7245</td>\n",
       "      <td>0.506223</td>\n",
       "      <td>36688</td>\n",
       "      <td>35786</td>\n",
       "    </tr>\n",
       "  </tbody>\n",
       "</table>\n",
       "</div>"
      ],
      "text/plain": [
       "   batch_id  cache_size_mb_end  cache_size_mb_start  element_count_end  \\\n",
       "0         4        1017.924805           1017.93457               7578   \n",
       "\n",
       "   element_count_sent  element_count_start  hit_ratio   hits  misses  \n",
       "0               72474                 7245   0.506223  36688   35786  "
      ]
     },
     "execution_count": 22,
     "metadata": {},
     "output_type": "execute_result"
    }
   ],
   "source": [
    "ehcache_lru_1024_data = crunch_the_data(\"ehcache\", 1024, \"LRU\")\n",
    "ehcache_lru_1024_data[\"agg_df\"]"
   ]
  },
  {
   "cell_type": "markdown",
   "metadata": {},
   "source": [
    "## Hazelcast Data"
   ]
  },
  {
   "cell_type": "markdown",
   "metadata": {},
   "source": [
    "### Hazelcast LRU 128 MB"
   ]
  },
  {
   "cell_type": "code",
   "execution_count": 23,
   "metadata": {},
   "outputs": [
    {
     "name": "stdout",
     "output_type": "stream",
     "text": [
      "Average Hit Ratio : 0.05719071548217277\n"
     ]
    },
    {
     "data": {
      "text/html": [
       "<div>\n",
       "<style scoped>\n",
       "    .dataframe tbody tr th:only-of-type {\n",
       "        vertical-align: middle;\n",
       "    }\n",
       "\n",
       "    .dataframe tbody tr th {\n",
       "        vertical-align: top;\n",
       "    }\n",
       "\n",
       "    .dataframe thead th {\n",
       "        text-align: right;\n",
       "    }\n",
       "</style>\n",
       "<table border=\"1\" class=\"dataframe\">\n",
       "  <thead>\n",
       "    <tr style=\"text-align: right;\">\n",
       "      <th></th>\n",
       "      <th>batch_id</th>\n",
       "      <th>cache_size_mb_end</th>\n",
       "      <th>cache_size_mb_start</th>\n",
       "      <th>element_count_end</th>\n",
       "      <th>element_count_sent</th>\n",
       "      <th>element_count_start</th>\n",
       "      <th>hit_ratio</th>\n",
       "      <th>hits</th>\n",
       "      <th>misses</th>\n",
       "    </tr>\n",
       "  </thead>\n",
       "  <tbody>\n",
       "    <tr>\n",
       "      <th>0</th>\n",
       "      <td>8</td>\n",
       "      <td>132.353516</td>\n",
       "      <td>127.71875</td>\n",
       "      <td>875</td>\n",
       "      <td>4179</td>\n",
       "      <td>772</td>\n",
       "      <td>0.057191</td>\n",
       "      <td>239</td>\n",
       "      <td>3940</td>\n",
       "    </tr>\n",
       "  </tbody>\n",
       "</table>\n",
       "</div>"
      ],
      "text/plain": [
       "   batch_id  cache_size_mb_end  cache_size_mb_start  element_count_end  \\\n",
       "0         8         132.353516            127.71875                875   \n",
       "\n",
       "   element_count_sent  element_count_start  hit_ratio  hits  misses  \n",
       "0                4179                  772   0.057191   239    3940  "
      ]
     },
     "execution_count": 23,
     "metadata": {},
     "output_type": "execute_result"
    }
   ],
   "source": [
    "hazelcast_lru_128_data = crunch_the_data(\"hazelcast\", 128, \"LRU\")\n",
    "hazelcast_lru_128_data[\"agg_df\"]"
   ]
  },
  {
   "cell_type": "markdown",
   "metadata": {},
   "source": [
    "### Hazelcast LRU 256 MB"
   ]
  },
  {
   "cell_type": "code",
   "execution_count": 24,
   "metadata": {},
   "outputs": [
    {
     "name": "stdout",
     "output_type": "stream",
     "text": [
      "Average Hit Ratio : 0.1005811884711185\n"
     ]
    },
    {
     "data": {
      "text/html": [
       "<div>\n",
       "<style scoped>\n",
       "    .dataframe tbody tr th:only-of-type {\n",
       "        vertical-align: middle;\n",
       "    }\n",
       "\n",
       "    .dataframe tbody tr th {\n",
       "        vertical-align: top;\n",
       "    }\n",
       "\n",
       "    .dataframe thead th {\n",
       "        text-align: right;\n",
       "    }\n",
       "</style>\n",
       "<table border=\"1\" class=\"dataframe\">\n",
       "  <thead>\n",
       "    <tr style=\"text-align: right;\">\n",
       "      <th></th>\n",
       "      <th>batch_id</th>\n",
       "      <th>cache_size_mb_end</th>\n",
       "      <th>cache_size_mb_start</th>\n",
       "      <th>element_count_end</th>\n",
       "      <th>element_count_sent</th>\n",
       "      <th>element_count_start</th>\n",
       "      <th>hit_ratio</th>\n",
       "      <th>hits</th>\n",
       "      <th>misses</th>\n",
       "    </tr>\n",
       "  </thead>\n",
       "  <tbody>\n",
       "    <tr>\n",
       "      <th>0</th>\n",
       "      <td>7</td>\n",
       "      <td>262.19043</td>\n",
       "      <td>254.733398</td>\n",
       "      <td>1629</td>\n",
       "      <td>8431</td>\n",
       "      <td>1484</td>\n",
       "      <td>0.100581</td>\n",
       "      <td>848</td>\n",
       "      <td>7583</td>\n",
       "    </tr>\n",
       "  </tbody>\n",
       "</table>\n",
       "</div>"
      ],
      "text/plain": [
       "   batch_id  cache_size_mb_end  cache_size_mb_start  element_count_end  \\\n",
       "0         7          262.19043           254.733398               1629   \n",
       "\n",
       "   element_count_sent  element_count_start  hit_ratio  hits  misses  \n",
       "0                8431                 1484   0.100581   848    7583  "
      ]
     },
     "execution_count": 24,
     "metadata": {},
     "output_type": "execute_result"
    }
   ],
   "source": [
    "hazelcast_lru_256_data = crunch_the_data(\"hazelcast\", 256, \"LRU\")\n",
    "hazelcast_lru_256_data[\"agg_df\"]"
   ]
  },
  {
   "cell_type": "markdown",
   "metadata": {},
   "source": [
    "### Hazelcast LRU 512 MB"
   ]
  },
  {
   "cell_type": "code",
   "execution_count": 25,
   "metadata": {},
   "outputs": [
    {
     "name": "stdout",
     "output_type": "stream",
     "text": [
      "Average Hit Ratio : 0.24765486351728216\n"
     ]
    },
    {
     "data": {
      "text/html": [
       "<div>\n",
       "<style scoped>\n",
       "    .dataframe tbody tr th:only-of-type {\n",
       "        vertical-align: middle;\n",
       "    }\n",
       "\n",
       "    .dataframe tbody tr th {\n",
       "        vertical-align: top;\n",
       "    }\n",
       "\n",
       "    .dataframe thead th {\n",
       "        text-align: right;\n",
       "    }\n",
       "</style>\n",
       "<table border=\"1\" class=\"dataframe\">\n",
       "  <thead>\n",
       "    <tr style=\"text-align: right;\">\n",
       "      <th></th>\n",
       "      <th>batch_id</th>\n",
       "      <th>cache_size_mb_end</th>\n",
       "      <th>cache_size_mb_start</th>\n",
       "      <th>element_count_end</th>\n",
       "      <th>element_count_sent</th>\n",
       "      <th>element_count_start</th>\n",
       "      <th>hit_ratio</th>\n",
       "      <th>hits</th>\n",
       "      <th>misses</th>\n",
       "    </tr>\n",
       "  </thead>\n",
       "  <tbody>\n",
       "    <tr>\n",
       "      <th>0</th>\n",
       "      <td>5</td>\n",
       "      <td>515.367188</td>\n",
       "      <td>509.485352</td>\n",
       "      <td>3736</td>\n",
       "      <td>23666</td>\n",
       "      <td>3529</td>\n",
       "      <td>0.247655</td>\n",
       "      <td>5861</td>\n",
       "      <td>17805</td>\n",
       "    </tr>\n",
       "  </tbody>\n",
       "</table>\n",
       "</div>"
      ],
      "text/plain": [
       "   batch_id  cache_size_mb_end  cache_size_mb_start  element_count_end  \\\n",
       "0         5         515.367188           509.485352               3736   \n",
       "\n",
       "   element_count_sent  element_count_start  hit_ratio  hits  misses  \n",
       "0               23666                 3529   0.247655  5861   17805  "
      ]
     },
     "execution_count": 25,
     "metadata": {},
     "output_type": "execute_result"
    }
   ],
   "source": [
    "hazelcast_lru_512_data = crunch_the_data(\"hazelcast\", 512, \"LRU\")\n",
    "hazelcast_lru_512_data[\"agg_df\"]"
   ]
  },
  {
   "cell_type": "markdown",
   "metadata": {},
   "source": [
    "### Hazelcast LRU 1024 MB"
   ]
  },
  {
   "cell_type": "code",
   "execution_count": 26,
   "metadata": {},
   "outputs": [
    {
     "name": "stdout",
     "output_type": "stream",
     "text": [
      "Average Hit Ratio : 0.49796682191048386\n"
     ]
    },
    {
     "data": {
      "text/html": [
       "<div>\n",
       "<style scoped>\n",
       "    .dataframe tbody tr th:only-of-type {\n",
       "        vertical-align: middle;\n",
       "    }\n",
       "\n",
       "    .dataframe tbody tr th {\n",
       "        vertical-align: top;\n",
       "    }\n",
       "\n",
       "    .dataframe thead th {\n",
       "        text-align: right;\n",
       "    }\n",
       "</style>\n",
       "<table border=\"1\" class=\"dataframe\">\n",
       "  <thead>\n",
       "    <tr style=\"text-align: right;\">\n",
       "      <th></th>\n",
       "      <th>batch_id</th>\n",
       "      <th>cache_size_mb_end</th>\n",
       "      <th>cache_size_mb_start</th>\n",
       "      <th>element_count_end</th>\n",
       "      <th>element_count_sent</th>\n",
       "      <th>element_count_start</th>\n",
       "      <th>hit_ratio</th>\n",
       "      <th>hits</th>\n",
       "      <th>misses</th>\n",
       "    </tr>\n",
       "  </thead>\n",
       "  <tbody>\n",
       "    <tr>\n",
       "      <th>0</th>\n",
       "      <td>6</td>\n",
       "      <td>1031.755859</td>\n",
       "      <td>1018.132812</td>\n",
       "      <td>7517</td>\n",
       "      <td>71071</td>\n",
       "      <td>7244</td>\n",
       "      <td>0.497967</td>\n",
       "      <td>35391</td>\n",
       "      <td>35680</td>\n",
       "    </tr>\n",
       "  </tbody>\n",
       "</table>\n",
       "</div>"
      ],
      "text/plain": [
       "   batch_id  cache_size_mb_end  cache_size_mb_start  element_count_end  \\\n",
       "0         6        1031.755859          1018.132812               7517   \n",
       "\n",
       "   element_count_sent  element_count_start  hit_ratio   hits  misses  \n",
       "0               71071                 7244   0.497967  35391   35680  "
      ]
     },
     "execution_count": 26,
     "metadata": {},
     "output_type": "execute_result"
    }
   ],
   "source": [
    "hazelcast_lru_1024_data = crunch_the_data(\"hazelcast\", 1024, \"LRU\")\n",
    "hazelcast_lru_1024_data[\"agg_df\"]"
   ]
  },
  {
   "cell_type": "code",
   "execution_count": null,
   "metadata": {},
   "outputs": [],
   "source": []
  },
  {
   "cell_type": "markdown",
   "metadata": {},
   "source": [
    "## Redis Data"
   ]
  },
  {
   "cell_type": "markdown",
   "metadata": {},
   "source": [
    "### Redis LRU 128 MB"
   ]
  },
  {
   "cell_type": "code",
   "execution_count": 27,
   "metadata": {},
   "outputs": [
    {
     "name": "stdout",
     "output_type": "stream",
     "text": [
      "Average Hit Ratio : 0.05401223234209182\n"
     ]
    },
    {
     "data": {
      "text/html": [
       "<div>\n",
       "<style scoped>\n",
       "    .dataframe tbody tr th:only-of-type {\n",
       "        vertical-align: middle;\n",
       "    }\n",
       "\n",
       "    .dataframe tbody tr th {\n",
       "        vertical-align: top;\n",
       "    }\n",
       "\n",
       "    .dataframe thead th {\n",
       "        text-align: right;\n",
       "    }\n",
       "</style>\n",
       "<table border=\"1\" class=\"dataframe\">\n",
       "  <thead>\n",
       "    <tr style=\"text-align: right;\">\n",
       "      <th></th>\n",
       "      <th>batch_id</th>\n",
       "      <th>cache_size_mb_end</th>\n",
       "      <th>cache_size_mb_start</th>\n",
       "      <th>element_count_end</th>\n",
       "      <th>element_count_sent</th>\n",
       "      <th>element_count_start</th>\n",
       "      <th>hit_ratio</th>\n",
       "      <th>hits</th>\n",
       "      <th>misses</th>\n",
       "    </tr>\n",
       "  </thead>\n",
       "  <tbody>\n",
       "    <tr>\n",
       "      <th>0</th>\n",
       "      <td>14</td>\n",
       "      <td>114.624023</td>\n",
       "      <td>114.500977</td>\n",
       "      <td>875</td>\n",
       "      <td>4134</td>\n",
       "      <td>699</td>\n",
       "      <td>0.051282</td>\n",
       "      <td>212</td>\n",
       "      <td>3922</td>\n",
       "    </tr>\n",
       "    <tr>\n",
       "      <th>1</th>\n",
       "      <td>19</td>\n",
       "      <td>115.110352</td>\n",
       "      <td>113.568359</td>\n",
       "      <td>883</td>\n",
       "      <td>4170</td>\n",
       "      <td>700</td>\n",
       "      <td>0.059712</td>\n",
       "      <td>249</td>\n",
       "      <td>3921</td>\n",
       "    </tr>\n",
       "    <tr>\n",
       "      <th>2</th>\n",
       "      <td>20</td>\n",
       "      <td>115.380859</td>\n",
       "      <td>114.900391</td>\n",
       "      <td>869</td>\n",
       "      <td>4173</td>\n",
       "      <td>714</td>\n",
       "      <td>0.051042</td>\n",
       "      <td>213</td>\n",
       "      <td>3960</td>\n",
       "    </tr>\n",
       "  </tbody>\n",
       "</table>\n",
       "</div>"
      ],
      "text/plain": [
       "   batch_id  cache_size_mb_end  cache_size_mb_start  element_count_end  \\\n",
       "0        14         114.624023           114.500977                875   \n",
       "1        19         115.110352           113.568359                883   \n",
       "2        20         115.380859           114.900391                869   \n",
       "\n",
       "   element_count_sent  element_count_start  hit_ratio  hits  misses  \n",
       "0                4134                  699   0.051282   212    3922  \n",
       "1                4170                  700   0.059712   249    3921  \n",
       "2                4173                  714   0.051042   213    3960  "
      ]
     },
     "execution_count": 27,
     "metadata": {},
     "output_type": "execute_result"
    }
   ],
   "source": [
    "redis_lru_128_data = crunch_the_data(\"redis\", 128, \"LRU\")\n",
    "redis_lru_128_data[\"agg_df\"]"
   ]
  },
  {
   "cell_type": "markdown",
   "metadata": {},
   "source": [
    "### Redis LRU 256 MB"
   ]
  },
  {
   "cell_type": "code",
   "execution_count": 28,
   "metadata": {},
   "outputs": [
    {
     "name": "stdout",
     "output_type": "stream",
     "text": [
      "Average Hit Ratio : 0.11248743816229624\n"
     ]
    },
    {
     "data": {
      "text/html": [
       "<div>\n",
       "<style scoped>\n",
       "    .dataframe tbody tr th:only-of-type {\n",
       "        vertical-align: middle;\n",
       "    }\n",
       "\n",
       "    .dataframe tbody tr th {\n",
       "        vertical-align: top;\n",
       "    }\n",
       "\n",
       "    .dataframe thead th {\n",
       "        text-align: right;\n",
       "    }\n",
       "</style>\n",
       "<table border=\"1\" class=\"dataframe\">\n",
       "  <thead>\n",
       "    <tr style=\"text-align: right;\">\n",
       "      <th></th>\n",
       "      <th>batch_id</th>\n",
       "      <th>cache_size_mb_end</th>\n",
       "      <th>cache_size_mb_start</th>\n",
       "      <th>element_count_end</th>\n",
       "      <th>element_count_sent</th>\n",
       "      <th>element_count_start</th>\n",
       "      <th>hit_ratio</th>\n",
       "      <th>hits</th>\n",
       "      <th>misses</th>\n",
       "    </tr>\n",
       "  </thead>\n",
       "  <tbody>\n",
       "    <tr>\n",
       "      <th>0</th>\n",
       "      <td>17</td>\n",
       "      <td>230.288086</td>\n",
       "      <td>231.068359</td>\n",
       "      <td>1679</td>\n",
       "      <td>8570</td>\n",
       "      <td>1340</td>\n",
       "      <td>0.110035</td>\n",
       "      <td>943</td>\n",
       "      <td>7627</td>\n",
       "    </tr>\n",
       "    <tr>\n",
       "      <th>1</th>\n",
       "      <td>26</td>\n",
       "      <td>230.478516</td>\n",
       "      <td>230.618164</td>\n",
       "      <td>1672</td>\n",
       "      <td>8648</td>\n",
       "      <td>1324</td>\n",
       "      <td>0.114940</td>\n",
       "      <td>994</td>\n",
       "      <td>7654</td>\n",
       "    </tr>\n",
       "  </tbody>\n",
       "</table>\n",
       "</div>"
      ],
      "text/plain": [
       "   batch_id  cache_size_mb_end  cache_size_mb_start  element_count_end  \\\n",
       "0        17         230.288086           231.068359               1679   \n",
       "1        26         230.478516           230.618164               1672   \n",
       "\n",
       "   element_count_sent  element_count_start  hit_ratio  hits  misses  \n",
       "0                8570                 1340   0.110035   943    7627  \n",
       "1                8648                 1324   0.114940   994    7654  "
      ]
     },
     "execution_count": 28,
     "metadata": {},
     "output_type": "execute_result"
    }
   ],
   "source": [
    "redis_lru_256_data = crunch_the_data(\"redis\", 256, \"LRU\")\n",
    "redis_lru_256_data[\"agg_df\"]"
   ]
  },
  {
   "cell_type": "markdown",
   "metadata": {},
   "source": [
    "### Redis LRU 512 MB"
   ]
  },
  {
   "cell_type": "code",
   "execution_count": 29,
   "metadata": {},
   "outputs": [
    {
     "name": "stdout",
     "output_type": "stream",
     "text": [
      "Average Hit Ratio : 0.2271534859134986\n"
     ]
    },
    {
     "data": {
      "text/html": [
       "<div>\n",
       "<style scoped>\n",
       "    .dataframe tbody tr th:only-of-type {\n",
       "        vertical-align: middle;\n",
       "    }\n",
       "\n",
       "    .dataframe tbody tr th {\n",
       "        vertical-align: top;\n",
       "    }\n",
       "\n",
       "    .dataframe thead th {\n",
       "        text-align: right;\n",
       "    }\n",
       "</style>\n",
       "<table border=\"1\" class=\"dataframe\">\n",
       "  <thead>\n",
       "    <tr style=\"text-align: right;\">\n",
       "      <th></th>\n",
       "      <th>batch_id</th>\n",
       "      <th>cache_size_mb_end</th>\n",
       "      <th>cache_size_mb_start</th>\n",
       "      <th>element_count_end</th>\n",
       "      <th>element_count_sent</th>\n",
       "      <th>element_count_start</th>\n",
       "      <th>hit_ratio</th>\n",
       "      <th>hits</th>\n",
       "      <th>misses</th>\n",
       "    </tr>\n",
       "  </thead>\n",
       "  <tbody>\n",
       "    <tr>\n",
       "      <th>0</th>\n",
       "      <td>16</td>\n",
       "      <td>464.034180</td>\n",
       "      <td>462.880859</td>\n",
       "      <td>3554</td>\n",
       "      <td>23060</td>\n",
       "      <td>3269</td>\n",
       "      <td>0.225369</td>\n",
       "      <td>5197</td>\n",
       "      <td>17863</td>\n",
       "    </tr>\n",
       "    <tr>\n",
       "      <th>1</th>\n",
       "      <td>22</td>\n",
       "      <td>461.711914</td>\n",
       "      <td>462.874023</td>\n",
       "      <td>3370</td>\n",
       "      <td>23039</td>\n",
       "      <td>3232</td>\n",
       "      <td>0.227354</td>\n",
       "      <td>5238</td>\n",
       "      <td>17801</td>\n",
       "    </tr>\n",
       "    <tr>\n",
       "      <th>2</th>\n",
       "      <td>24</td>\n",
       "      <td>462.573242</td>\n",
       "      <td>461.243164</td>\n",
       "      <td>3474</td>\n",
       "      <td>22952</td>\n",
       "      <td>3241</td>\n",
       "      <td>0.228738</td>\n",
       "      <td>5250</td>\n",
       "      <td>17702</td>\n",
       "    </tr>\n",
       "  </tbody>\n",
       "</table>\n",
       "</div>"
      ],
      "text/plain": [
       "   batch_id  cache_size_mb_end  cache_size_mb_start  element_count_end  \\\n",
       "0        16         464.034180           462.880859               3554   \n",
       "1        22         461.711914           462.874023               3370   \n",
       "2        24         462.573242           461.243164               3474   \n",
       "\n",
       "   element_count_sent  element_count_start  hit_ratio  hits  misses  \n",
       "0               23060                 3269   0.225369  5197   17863  \n",
       "1               23039                 3232   0.227354  5238   17801  \n",
       "2               22952                 3241   0.228738  5250   17702  "
      ]
     },
     "execution_count": 29,
     "metadata": {},
     "output_type": "execute_result"
    }
   ],
   "source": [
    "redis_lru_512_data = crunch_the_data(\"redis\", 512, \"LRU\")\n",
    "redis_lru_512_data[\"agg_df\"]"
   ]
  },
  {
   "cell_type": "markdown",
   "metadata": {},
   "source": [
    "### Redis LRU 1024 MB"
   ]
  },
  {
   "cell_type": "code",
   "execution_count": 30,
   "metadata": {},
   "outputs": [
    {
     "name": "stdout",
     "output_type": "stream",
     "text": [
      "Average Hit Ratio : 0.4555576845696288\n"
     ]
    },
    {
     "data": {
      "text/html": [
       "<div>\n",
       "<style scoped>\n",
       "    .dataframe tbody tr th:only-of-type {\n",
       "        vertical-align: middle;\n",
       "    }\n",
       "\n",
       "    .dataframe tbody tr th {\n",
       "        vertical-align: top;\n",
       "    }\n",
       "\n",
       "    .dataframe thead th {\n",
       "        text-align: right;\n",
       "    }\n",
       "</style>\n",
       "<table border=\"1\" class=\"dataframe\">\n",
       "  <thead>\n",
       "    <tr style=\"text-align: right;\">\n",
       "      <th></th>\n",
       "      <th>batch_id</th>\n",
       "      <th>cache_size_mb_end</th>\n",
       "      <th>cache_size_mb_start</th>\n",
       "      <th>element_count_end</th>\n",
       "      <th>element_count_sent</th>\n",
       "      <th>element_count_start</th>\n",
       "      <th>hit_ratio</th>\n",
       "      <th>hits</th>\n",
       "      <th>misses</th>\n",
       "    </tr>\n",
       "  </thead>\n",
       "  <tbody>\n",
       "    <tr>\n",
       "      <th>0</th>\n",
       "      <td>15</td>\n",
       "      <td>927.371094</td>\n",
       "      <td>927.032227</td>\n",
       "      <td>6841</td>\n",
       "      <td>65308</td>\n",
       "      <td>6715</td>\n",
       "      <td>0.454998</td>\n",
       "      <td>29715</td>\n",
       "      <td>35593</td>\n",
       "    </tr>\n",
       "    <tr>\n",
       "      <th>1</th>\n",
       "      <td>21</td>\n",
       "      <td>926.773438</td>\n",
       "      <td>927.357422</td>\n",
       "      <td>6873</td>\n",
       "      <td>65364</td>\n",
       "      <td>6719</td>\n",
       "      <td>0.452757</td>\n",
       "      <td>29594</td>\n",
       "      <td>35770</td>\n",
       "    </tr>\n",
       "    <tr>\n",
       "      <th>2</th>\n",
       "      <td>23</td>\n",
       "      <td>927.720703</td>\n",
       "      <td>927.649414</td>\n",
       "      <td>6897</td>\n",
       "      <td>65568</td>\n",
       "      <td>6674</td>\n",
       "      <td>0.455268</td>\n",
       "      <td>29851</td>\n",
       "      <td>35717</td>\n",
       "    </tr>\n",
       "    <tr>\n",
       "      <th>3</th>\n",
       "      <td>25</td>\n",
       "      <td>927.010742</td>\n",
       "      <td>926.716797</td>\n",
       "      <td>6903</td>\n",
       "      <td>66153</td>\n",
       "      <td>6727</td>\n",
       "      <td>0.459208</td>\n",
       "      <td>30378</td>\n",
       "      <td>35775</td>\n",
       "    </tr>\n",
       "  </tbody>\n",
       "</table>\n",
       "</div>"
      ],
      "text/plain": [
       "   batch_id  cache_size_mb_end  cache_size_mb_start  element_count_end  \\\n",
       "0        15         927.371094           927.032227               6841   \n",
       "1        21         926.773438           927.357422               6873   \n",
       "2        23         927.720703           927.649414               6897   \n",
       "3        25         927.010742           926.716797               6903   \n",
       "\n",
       "   element_count_sent  element_count_start  hit_ratio   hits  misses  \n",
       "0               65308                 6715   0.454998  29715   35593  \n",
       "1               65364                 6719   0.452757  29594   35770  \n",
       "2               65568                 6674   0.455268  29851   35717  \n",
       "3               66153                 6727   0.459208  30378   35775  "
      ]
     },
     "execution_count": 30,
     "metadata": {},
     "output_type": "execute_result"
    }
   ],
   "source": [
    "redis_lru_1024_data = crunch_the_data(\"redis\", 1024, \"LRU\")\n",
    "redis_lru_1024_data[\"agg_df\"]"
   ]
  },
  {
   "cell_type": "markdown",
   "metadata": {},
   "source": [
    "## Memcached Data"
   ]
  },
  {
   "cell_type": "markdown",
   "metadata": {},
   "source": [
    "### Memcached LRU 128 MB"
   ]
  },
  {
   "cell_type": "code",
   "execution_count": 31,
   "metadata": {},
   "outputs": [
    {
     "name": "stdout",
     "output_type": "stream",
     "text": [
      "Average Hit Ratio : 0.05735541156707463\n"
     ]
    },
    {
     "data": {
      "text/html": [
       "<div>\n",
       "<style scoped>\n",
       "    .dataframe tbody tr th:only-of-type {\n",
       "        vertical-align: middle;\n",
       "    }\n",
       "\n",
       "    .dataframe tbody tr th {\n",
       "        vertical-align: top;\n",
       "    }\n",
       "\n",
       "    .dataframe thead th {\n",
       "        text-align: right;\n",
       "    }\n",
       "</style>\n",
       "<table border=\"1\" class=\"dataframe\">\n",
       "  <thead>\n",
       "    <tr style=\"text-align: right;\">\n",
       "      <th></th>\n",
       "      <th>batch_id</th>\n",
       "      <th>cache_size_mb_end</th>\n",
       "      <th>cache_size_mb_start</th>\n",
       "      <th>element_count_end</th>\n",
       "      <th>element_count_sent</th>\n",
       "      <th>element_count_start</th>\n",
       "      <th>hit_ratio</th>\n",
       "      <th>hits</th>\n",
       "      <th>misses</th>\n",
       "    </tr>\n",
       "  </thead>\n",
       "  <tbody>\n",
       "    <tr>\n",
       "      <th>0</th>\n",
       "      <td>13</td>\n",
       "      <td>112.394531</td>\n",
       "      <td>110.03125</td>\n",
       "      <td>973</td>\n",
       "      <td>4167</td>\n",
       "      <td>692</td>\n",
       "      <td>0.057355</td>\n",
       "      <td>239</td>\n",
       "      <td>3928</td>\n",
       "    </tr>\n",
       "  </tbody>\n",
       "</table>\n",
       "</div>"
      ],
      "text/plain": [
       "   batch_id  cache_size_mb_end  cache_size_mb_start  element_count_end  \\\n",
       "0        13         112.394531            110.03125                973   \n",
       "\n",
       "   element_count_sent  element_count_start  hit_ratio  hits  misses  \n",
       "0                4167                  692   0.057355   239    3928  "
      ]
     },
     "execution_count": 31,
     "metadata": {},
     "output_type": "execute_result"
    }
   ],
   "source": [
    "memcached_lru_128_data = crunch_the_data(\"memcached\", 128, \"LRU\")\n",
    "memcached_lru_128_data[\"agg_df\"]"
   ]
  },
  {
   "cell_type": "markdown",
   "metadata": {},
   "source": [
    "### Memcached LRU 256 MB"
   ]
  },
  {
   "cell_type": "code",
   "execution_count": 32,
   "metadata": {},
   "outputs": [
    {
     "name": "stdout",
     "output_type": "stream",
     "text": [
      "Average Hit Ratio : 0.10471820214142841\n"
     ]
    },
    {
     "data": {
      "text/html": [
       "<div>\n",
       "<style scoped>\n",
       "    .dataframe tbody tr th:only-of-type {\n",
       "        vertical-align: middle;\n",
       "    }\n",
       "\n",
       "    .dataframe tbody tr th {\n",
       "        vertical-align: top;\n",
       "    }\n",
       "\n",
       "    .dataframe thead th {\n",
       "        text-align: right;\n",
       "    }\n",
       "</style>\n",
       "<table border=\"1\" class=\"dataframe\">\n",
       "  <thead>\n",
       "    <tr style=\"text-align: right;\">\n",
       "      <th></th>\n",
       "      <th>batch_id</th>\n",
       "      <th>cache_size_mb_end</th>\n",
       "      <th>cache_size_mb_start</th>\n",
       "      <th>element_count_end</th>\n",
       "      <th>element_count_sent</th>\n",
       "      <th>element_count_start</th>\n",
       "      <th>hit_ratio</th>\n",
       "      <th>hits</th>\n",
       "      <th>misses</th>\n",
       "    </tr>\n",
       "  </thead>\n",
       "  <tbody>\n",
       "    <tr>\n",
       "      <th>0</th>\n",
       "      <td>12</td>\n",
       "      <td>230.811523</td>\n",
       "      <td>224.958984</td>\n",
       "      <td>1702</td>\n",
       "      <td>8499</td>\n",
       "      <td>1368</td>\n",
       "      <td>0.104718</td>\n",
       "      <td>890</td>\n",
       "      <td>7609</td>\n",
       "    </tr>\n",
       "  </tbody>\n",
       "</table>\n",
       "</div>"
      ],
      "text/plain": [
       "   batch_id  cache_size_mb_end  cache_size_mb_start  element_count_end  \\\n",
       "0        12         230.811523           224.958984               1702   \n",
       "\n",
       "   element_count_sent  element_count_start  hit_ratio  hits  misses  \n",
       "0                8499                 1368   0.104718   890    7609  "
      ]
     },
     "execution_count": 32,
     "metadata": {},
     "output_type": "execute_result"
    }
   ],
   "source": [
    "memcached_lru_256_data = crunch_the_data(\"memcached\", 256, \"LRU\")\n",
    "memcached_lru_256_data[\"agg_df\"]"
   ]
  },
  {
   "cell_type": "markdown",
   "metadata": {},
   "source": [
    "### Memcached LRU 512 MB"
   ]
  },
  {
   "cell_type": "code",
   "execution_count": 33,
   "metadata": {},
   "outputs": [
    {
     "name": "stdout",
     "output_type": "stream",
     "text": [
      "Average Hit Ratio : 0.2355234094157391\n"
     ]
    },
    {
     "data": {
      "text/html": [
       "<div>\n",
       "<style scoped>\n",
       "    .dataframe tbody tr th:only-of-type {\n",
       "        vertical-align: middle;\n",
       "    }\n",
       "\n",
       "    .dataframe tbody tr th {\n",
       "        vertical-align: top;\n",
       "    }\n",
       "\n",
       "    .dataframe thead th {\n",
       "        text-align: right;\n",
       "    }\n",
       "</style>\n",
       "<table border=\"1\" class=\"dataframe\">\n",
       "  <thead>\n",
       "    <tr style=\"text-align: right;\">\n",
       "      <th></th>\n",
       "      <th>batch_id</th>\n",
       "      <th>cache_size_mb_end</th>\n",
       "      <th>cache_size_mb_start</th>\n",
       "      <th>element_count_end</th>\n",
       "      <th>element_count_sent</th>\n",
       "      <th>element_count_start</th>\n",
       "      <th>hit_ratio</th>\n",
       "      <th>hits</th>\n",
       "      <th>misses</th>\n",
       "    </tr>\n",
       "  </thead>\n",
       "  <tbody>\n",
       "    <tr>\n",
       "      <th>0</th>\n",
       "      <td>10</td>\n",
       "      <td>460.295898</td>\n",
       "      <td>454.220703</td>\n",
       "      <td>3589</td>\n",
       "      <td>23089</td>\n",
       "      <td>3274</td>\n",
       "      <td>0.235523</td>\n",
       "      <td>5438</td>\n",
       "      <td>17651</td>\n",
       "    </tr>\n",
       "  </tbody>\n",
       "</table>\n",
       "</div>"
      ],
      "text/plain": [
       "   batch_id  cache_size_mb_end  cache_size_mb_start  element_count_end  \\\n",
       "0        10         460.295898           454.220703               3589   \n",
       "\n",
       "   element_count_sent  element_count_start  hit_ratio  hits  misses  \n",
       "0               23089                 3274   0.235523  5438   17651  "
      ]
     },
     "execution_count": 33,
     "metadata": {},
     "output_type": "execute_result"
    }
   ],
   "source": [
    "memcached_lru_512_data = crunch_the_data(\"memcached\", 512, \"LRU\")\n",
    "memcached_lru_512_data[\"agg_df\"]"
   ]
  },
  {
   "cell_type": "markdown",
   "metadata": {},
   "source": [
    "### Memcached LRU 1024 MB"
   ]
  },
  {
   "cell_type": "code",
   "execution_count": 34,
   "metadata": {},
   "outputs": [
    {
     "name": "stdout",
     "output_type": "stream",
     "text": [
      "Average Hit Ratio : 0.44759977133322004\n"
     ]
    },
    {
     "data": {
      "text/html": [
       "<div>\n",
       "<style scoped>\n",
       "    .dataframe tbody tr th:only-of-type {\n",
       "        vertical-align: middle;\n",
       "    }\n",
       "\n",
       "    .dataframe tbody tr th {\n",
       "        vertical-align: top;\n",
       "    }\n",
       "\n",
       "    .dataframe thead th {\n",
       "        text-align: right;\n",
       "    }\n",
       "</style>\n",
       "<table border=\"1\" class=\"dataframe\">\n",
       "  <thead>\n",
       "    <tr style=\"text-align: right;\">\n",
       "      <th></th>\n",
       "      <th>batch_id</th>\n",
       "      <th>cache_size_mb_end</th>\n",
       "      <th>cache_size_mb_start</th>\n",
       "      <th>element_count_end</th>\n",
       "      <th>element_count_sent</th>\n",
       "      <th>element_count_start</th>\n",
       "      <th>hit_ratio</th>\n",
       "      <th>hits</th>\n",
       "      <th>misses</th>\n",
       "    </tr>\n",
       "  </thead>\n",
       "  <tbody>\n",
       "    <tr>\n",
       "      <th>0</th>\n",
       "      <td>11</td>\n",
       "      <td>922.816406</td>\n",
       "      <td>921.205078</td>\n",
       "      <td>6740</td>\n",
       "      <td>64723</td>\n",
       "      <td>6593</td>\n",
       "      <td>0.4476</td>\n",
       "      <td>28970</td>\n",
       "      <td>35753</td>\n",
       "    </tr>\n",
       "  </tbody>\n",
       "</table>\n",
       "</div>"
      ],
      "text/plain": [
       "   batch_id  cache_size_mb_end  cache_size_mb_start  element_count_end  \\\n",
       "0        11         922.816406           921.205078               6740   \n",
       "\n",
       "   element_count_sent  element_count_start  hit_ratio   hits  misses  \n",
       "0               64723                 6593     0.4476  28970   35753  "
      ]
     },
     "execution_count": 34,
     "metadata": {},
     "output_type": "execute_result"
    }
   ],
   "source": [
    "memcached_lru_1024_data = crunch_the_data(\"memcached\", 1024, \"LRU\")\n",
    "memcached_lru_1024_data[\"agg_df\"]"
   ]
  },
  {
   "cell_type": "markdown",
   "metadata": {},
   "source": [
    "## 128 MB LRU Comparison"
   ]
  },
  {
   "cell_type": "code",
   "execution_count": 35,
   "metadata": {},
   "outputs": [
    {
     "data": {
      "image/png": "[encoded data removed]",
      "text/plain": [
       "<Figure size 1008x576 with 1 Axes>"
      ]
     },
     "metadata": {},
     "output_type": "display_data"
    }
   ],
   "source": [
    "plot_avg_hit_ratio(\"128MB LRU Cache Avg Hit Ratio\", \n",
    "                    ehcache_lru_128_data, \n",
    "                    hazelcast_lru_128_data, \n",
    "                    memcached_lru_128_data,\n",
    "                    redis_lru_128_data\n",
    "                  )"
   ]
  },
  {
   "cell_type": "markdown",
   "metadata": {},
   "source": [
    "## 256 MB LRU Comparison"
   ]
  },
  {
   "cell_type": "code",
   "execution_count": 36,
   "metadata": {},
   "outputs": [
    {
     "data": {
      "image/png": "[encoded data removed]",
      "text/plain": [
       "<Figure size 1008x576 with 1 Axes>"
      ]
     },
     "metadata": {},
     "output_type": "display_data"
    }
   ],
   "source": [
    "plot_avg_hit_ratio(\"256MB LRU Cache Avg Hit Ratio\", \n",
    "                    ehcache_lru_256_data, \n",
    "                    hazelcast_lru_256_data, \n",
    "                    memcached_lru_256_data,\n",
    "                    redis_lru_256_data\n",
    "                  )"
   ]
  },
  {
   "cell_type": "markdown",
   "metadata": {},
   "source": [
    "## 512 MB LRU Comparison"
   ]
  },
  {
   "cell_type": "code",
   "execution_count": 37,
   "metadata": {},
   "outputs": [
    {
     "data": {
      "image/png": "[encoded data removed]",
      "text/plain": [
       "<Figure size 1008x576 with 1 Axes>"
      ]
     },
     "metadata": {},
     "output_type": "display_data"
    }
   ],
   "source": [
    "plot_avg_hit_ratio(\"512MB LRU Cache Avg Hit Ratio\", \n",
    "                    ehcache_lru_512_data, \n",
    "                    hazelcast_lru_512_data, \n",
    "                    memcached_lru_512_data,\n",
    "                    redis_lru_512_data\n",
    "                  )"
   ]
  },
  {
   "cell_type": "markdown",
   "metadata": {},
   "source": [
    "## 1024 MB LRU Comparison"
   ]
  },
  {
   "cell_type": "code",
   "execution_count": 38,
   "metadata": {},
   "outputs": [
    {
     "data": {
      "image/png": "[encoded data removed]",
      "text/plain": [
       "<Figure size 1008x576 with 1 Axes>"
      ]
     },
     "metadata": {},
     "output_type": "display_data"
    }
   ],
   "source": [
    "plot_avg_hit_ratio(\"1024MB LRU Cache Avg Hit Ratio\", \n",
    "                    ehcache_lru_1024_data, \n",
    "                    hazelcast_lru_1024_data,\n",
    "                    memcached_lru_1024_data,\n",
    "                    redis_lru_1024_data\n",
    "                  )"
   ]
  },
  {
   "cell_type": "markdown",
   "metadata": {},
   "source": [
    "## Cache Size vs Avg Hit Ratio"
   ]
  },
  {
   "cell_type": "code",
   "execution_count": 39,
   "metadata": {},
   "outputs": [
    {
     "data": {
      "image/png": "[encoded data removed]",
      "text/plain": [
       "<Figure size 1008x576 with 1 Axes>"
      ]
     },
     "metadata": {},
     "output_type": "display_data"
    }
   ],
   "source": [
    "ehcache_list = [ehcache_lru_1024_data,\n",
    "                   ehcache_lru_512_data,\n",
    "                   ehcache_lru_256_data,\n",
    "                   ehcache_lru_128_data\n",
    "               ]\n",
    "hazelcast_list = [hazelcast_lru_1024_data,\n",
    "                   hazelcast_lru_512_data,\n",
    "                   hazelcast_lru_256_data,\n",
    "                   hazelcast_lru_128_data\n",
    "                 ]\n",
    "memcached_list = [memcached_lru_1024_data,\n",
    "                   memcached_lru_512_data,\n",
    "                   memcached_lru_256_data,\n",
    "                   memcached_lru_128_data\n",
    "                 ]\n",
    "redis_list = [redis_lru_1024_data,\n",
    "              redis_lru_512_data,\n",
    "              redis_lru_256_data,\n",
    "              redis_lru_128_data\n",
    "             ]\n",
    "plot_cache_size_vs_avg_hit_ratio_multiple(ehcache_list, hazelcast_list, memcached_list, redis_list)"
   ]
  },
  {
   "cell_type": "code",
   "execution_count": null,
   "metadata": {},
   "outputs": [],
   "source": []
  },
  {
   "cell_type": "code",
   "execution_count": null,
   "metadata": {},
   "outputs": [],
   "source": []
  },
  {
   "cell_type": "code",
   "execution_count": null,
   "metadata": {},
   "outputs": [],
   "source": []
  },
  {
   "cell_type": "code",
   "execution_count": null,
   "metadata": {},
   "outputs": [],
   "source": []
  }
 ],
 "metadata": {
  "kernelspec": {
   "display_name": "Python 3",
   "language": "python",
   "name": "python3"
  },
  "language_info": {
   "codemirror_mode": {
    "name": "ipython",
    "version": 3
   },
   "file_extension": ".py",
   "mimetype": "text/x-python",
   "name": "python",
   "nbconvert_exporter": "python",
   "pygments_lexer": "ipython3",
   "version": "3.6.5"
  }
 },
 "nbformat": 4,
 "nbformat_minor": 2
}
