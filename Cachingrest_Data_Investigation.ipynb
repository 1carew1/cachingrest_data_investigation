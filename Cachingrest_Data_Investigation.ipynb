{
 "cells": [
  {
   "cell_type": "code",
   "execution_count": 1,
   "metadata": {},
   "outputs": [],
   "source": [
    "%matplotlib inline "
   ]
  },
  {
   "cell_type": "markdown",
   "metadata": {},
   "source": [
    "# Caching Rest Data Investigation\n",
    "***"
   ]
  },
  {
   "cell_type": "markdown",
   "metadata": {},
   "source": [
    "## Table of Contents\n",
    "***"
   ]
  },
  {
   "cell_type": "markdown",
   "metadata": {},
   "source": [
    "## Aim <a class=\"anchor\" id=\"aim\"></a>\n",
    "***\n",
    "\n",
    "The aim of this notebook is to do some Exploratory data analysis on the data obtained from the Caching Rest Application"
   ]
  },
  {
   "cell_type": "markdown",
   "metadata": {},
   "source": [
    "## Code Setup <a class=\"anchor\" id=\"code-setup\"></a>\n",
    "***"
   ]
  },
  {
   "cell_type": "markdown",
   "metadata": {},
   "source": [
    "### Import Libraries"
   ]
  },
  {
   "cell_type": "code",
   "execution_count": 2,
   "metadata": {},
   "outputs": [],
   "source": [
    "import pymysql\n",
    "import pandas as pd\n",
    "import sys\n",
    "import numpy as np\n",
    "import matplotlib.pyplot as plt\n",
    "plt.rcParams['figure.figsize'] = [12, 6]\n",
    "import seaborn as sns\n",
    "sns.set_style(\"darkgrid\")\n",
    "sns.set_context(\"paper\")"
   ]
  },
  {
   "cell_type": "markdown",
   "metadata": {},
   "source": [
    "### Constants"
   ]
  },
  {
   "cell_type": "code",
   "execution_count": 3,
   "metadata": {},
   "outputs": [],
   "source": [
    "db_connection = pymysql.connect(\"pidb\",\"dbuser\",\"password\",\"cachetest\" )"
   ]
  },
  {
   "cell_type": "markdown",
   "metadata": {},
   "source": [
    "### Useful Functions"
   ]
  },
  {
   "cell_type": "markdown",
   "metadata": {},
   "source": [
    "### File Read"
   ]
  },
  {
   "cell_type": "code",
   "execution_count": 4,
   "metadata": {},
   "outputs": [],
   "source": [
    "def read_full_db_table(table_name):\n",
    "    return pd.read_sql('SELECT * FROM ' + table_name, con=db_connection)"
   ]
  },
  {
   "cell_type": "markdown",
   "metadata": {},
   "source": [
    "## Data Import <a class=\"anchor\" id=\"data-import\"></a>\n",
    "***"
   ]
  },
  {
   "cell_type": "code",
   "execution_count": 5,
   "metadata": {},
   "outputs": [
    {
     "data": {
      "text/html": [
       "<div>\n",
       "<style scoped>\n",
       "    .dataframe tbody tr th:only-of-type {\n",
       "        vertical-align: middle;\n",
       "    }\n",
       "\n",
       "    .dataframe tbody tr th {\n",
       "        vertical-align: top;\n",
       "    }\n",
       "\n",
       "    .dataframe thead th {\n",
       "        text-align: right;\n",
       "    }\n",
       "</style>\n",
       "<table border=\"1\" class=\"dataframe\">\n",
       "  <thead>\n",
       "    <tr style=\"text-align: right;\">\n",
       "      <th></th>\n",
       "      <th>id</th>\n",
       "      <th>cache_size_mb</th>\n",
       "      <th>cache_type</th>\n",
       "      <th>end_date</th>\n",
       "      <th>eviction_policy</th>\n",
       "      <th>start_date</th>\n",
       "    </tr>\n",
       "  </thead>\n",
       "  <tbody>\n",
       "    <tr>\n",
       "      <th>0</th>\n",
       "      <td>1</td>\n",
       "      <td>256</td>\n",
       "      <td>ehcache</td>\n",
       "      <td>2018-04-13 14:03:39</td>\n",
       "      <td>LRU</td>\n",
       "      <td>2018-04-13 11:30:05</td>\n",
       "    </tr>\n",
       "    <tr>\n",
       "      <th>1</th>\n",
       "      <td>2</td>\n",
       "      <td>512</td>\n",
       "      <td>ehcache</td>\n",
       "      <td>2018-04-14 00:33:22</td>\n",
       "      <td>LRU</td>\n",
       "      <td>2018-04-13 18:48:15</td>\n",
       "    </tr>\n",
       "    <tr>\n",
       "      <th>2</th>\n",
       "      <td>3</td>\n",
       "      <td>128</td>\n",
       "      <td>ehcache</td>\n",
       "      <td>2018-04-14 14:06:03</td>\n",
       "      <td>LRU</td>\n",
       "      <td>2018-04-14 12:39:39</td>\n",
       "    </tr>\n",
       "    <tr>\n",
       "      <th>3</th>\n",
       "      <td>4</td>\n",
       "      <td>1024</td>\n",
       "      <td>ehcache</td>\n",
       "      <td>2018-04-15 06:37:25</td>\n",
       "      <td>LRU</td>\n",
       "      <td>2018-04-14 19:00:22</td>\n",
       "    </tr>\n",
       "    <tr>\n",
       "      <th>4</th>\n",
       "      <td>5</td>\n",
       "      <td>512</td>\n",
       "      <td>hazelcast</td>\n",
       "      <td>2018-04-15 21:27:42</td>\n",
       "      <td>LRU</td>\n",
       "      <td>2018-04-15 15:40:38</td>\n",
       "    </tr>\n",
       "  </tbody>\n",
       "</table>\n",
       "</div>"
      ],
      "text/plain": [
       "   id cache_size_mb cache_type            end_date eviction_policy  \\\n",
       "0   1           256    ehcache 2018-04-13 14:03:39             LRU   \n",
       "1   2           512    ehcache 2018-04-14 00:33:22             LRU   \n",
       "2   3           128    ehcache 2018-04-14 14:06:03             LRU   \n",
       "3   4          1024    ehcache 2018-04-15 06:37:25             LRU   \n",
       "4   5           512  hazelcast 2018-04-15 21:27:42             LRU   \n",
       "\n",
       "           start_date  \n",
       "0 2018-04-13 11:30:05  \n",
       "1 2018-04-13 18:48:15  \n",
       "2 2018-04-14 12:39:39  \n",
       "3 2018-04-14 19:00:22  \n",
       "4 2018-04-15 15:40:38  "
      ]
     },
     "execution_count": 5,
     "metadata": {},
     "output_type": "execute_result"
    }
   ],
   "source": [
    "batch_df = read_full_db_table(\"batch\")\n",
    "batch_df.head()"
   ]
  },
  {
   "cell_type": "code",
   "execution_count": 6,
   "metadata": {},
   "outputs": [
    {
     "data": {
      "text/html": [
       "<div>\n",
       "<style scoped>\n",
       "    .dataframe tbody tr th:only-of-type {\n",
       "        vertical-align: middle;\n",
       "    }\n",
       "\n",
       "    .dataframe tbody tr th {\n",
       "        vertical-align: top;\n",
       "    }\n",
       "\n",
       "    .dataframe thead th {\n",
       "        text-align: right;\n",
       "    }\n",
       "</style>\n",
       "<table border=\"1\" class=\"dataframe\">\n",
       "  <thead>\n",
       "    <tr style=\"text-align: right;\">\n",
       "      <th></th>\n",
       "      <th>id</th>\n",
       "      <th>file_name</th>\n",
       "      <th>file_sizekb</th>\n",
       "      <th>image_hash</th>\n",
       "      <th>batch_id</th>\n",
       "    </tr>\n",
       "  </thead>\n",
       "  <tbody>\n",
       "    <tr>\n",
       "      <th>0</th>\n",
       "      <td>1</td>\n",
       "      <td>../images/animals/google-image(0079).jpeg</td>\n",
       "      <td>45</td>\n",
       "      <td>4565da9f4eb917b6ecaf854d22c40147</td>\n",
       "      <td>1</td>\n",
       "    </tr>\n",
       "    <tr>\n",
       "      <th>1</th>\n",
       "      <td>2</td>\n",
       "      <td>../images/animals/google-image(0048).jpeg</td>\n",
       "      <td>154</td>\n",
       "      <td>997792fb1c677abee0044cb0c85f1715</td>\n",
       "      <td>1</td>\n",
       "    </tr>\n",
       "    <tr>\n",
       "      <th>2</th>\n",
       "      <td>3</td>\n",
       "      <td>../images/animals/google-image(0318).jpeg</td>\n",
       "      <td>26</td>\n",
       "      <td>1349ed000dc9313c23cf5867e60c85ed</td>\n",
       "      <td>1</td>\n",
       "    </tr>\n",
       "    <tr>\n",
       "      <th>3</th>\n",
       "      <td>4</td>\n",
       "      <td>../images/animals/google-image(0441).jpeg</td>\n",
       "      <td>20</td>\n",
       "      <td>94c302ce38b7247bc8e975b45c3f0033</td>\n",
       "      <td>1</td>\n",
       "    </tr>\n",
       "    <tr>\n",
       "      <th>4</th>\n",
       "      <td>5</td>\n",
       "      <td>../images/animals/google-image(0362).jpeg</td>\n",
       "      <td>26</td>\n",
       "      <td>f9fd900e15665cdfdf59fa1c0cb9e88f</td>\n",
       "      <td>1</td>\n",
       "    </tr>\n",
       "  </tbody>\n",
       "</table>\n",
       "</div>"
      ],
      "text/plain": [
       "   id                                  file_name  file_sizekb  \\\n",
       "0   1  ../images/animals/google-image(0079).jpeg           45   \n",
       "1   2  ../images/animals/google-image(0048).jpeg          154   \n",
       "2   3  ../images/animals/google-image(0318).jpeg           26   \n",
       "3   4  ../images/animals/google-image(0441).jpeg           20   \n",
       "4   5  ../images/animals/google-image(0362).jpeg           26   \n",
       "\n",
       "                         image_hash  batch_id  \n",
       "0  4565da9f4eb917b6ecaf854d22c40147         1  \n",
       "1  997792fb1c677abee0044cb0c85f1715         1  \n",
       "2  1349ed000dc9313c23cf5867e60c85ed         1  \n",
       "3  94c302ce38b7247bc8e975b45c3f0033         1  \n",
       "4  f9fd900e15665cdfdf59fa1c0cb9e88f         1  "
      ]
     },
     "execution_count": 6,
     "metadata": {},
     "output_type": "execute_result"
    }
   ],
   "source": [
    "cache_remainder_df = read_full_db_table(\"cache_remainder\")\n",
    "cache_remainder_df.head()"
   ]
  },
  {
   "cell_type": "code",
   "execution_count": null,
   "metadata": {},
   "outputs": [],
   "source": [
    "cache_initial_content_df = read_full_db_table(\"cache_initial_content\")\n",
    "cache_initial_content_df.head()"
   ]
  },
  {
   "cell_type": "code",
   "execution_count": null,
   "metadata": {},
   "outputs": [],
   "source": [
    "cache_performance_df = read_full_db_table(\"cache_performance\")\n",
    "cache_performance_df.head()"
   ]
  },
  {
   "cell_type": "code",
   "execution_count": null,
   "metadata": {},
   "outputs": [],
   "source": []
  },
  {
   "cell_type": "code",
   "execution_count": null,
   "metadata": {},
   "outputs": [],
   "source": []
  }
 ],
 "metadata": {
  "kernelspec": {
   "display_name": "Python 3",
   "language": "python",
   "name": "python3"
  },
  "language_info": {
   "codemirror_mode": {
    "name": "ipython",
    "version": 3
   },
   "file_extension": ".py",
   "mimetype": "text/x-python",
   "name": "python",
   "nbconvert_exporter": "python",
   "pygments_lexer": "ipython3",
   "version": "3.6.4"
  }
 },
 "nbformat": 4,
 "nbformat_minor": 2
}
