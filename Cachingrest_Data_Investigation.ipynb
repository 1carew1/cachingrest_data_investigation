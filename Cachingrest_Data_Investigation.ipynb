{
 "cells": [
  {
   "cell_type": "code",
   "execution_count": 1,
   "metadata": {},
   "outputs": [],
   "source": [
    "%matplotlib inline "
   ]
  },
  {
   "cell_type": "markdown",
   "metadata": {},
   "source": [
    "# Caching Rest Data Investigation\n",
    "***"
   ]
  },
  {
   "cell_type": "markdown",
   "metadata": {},
   "source": [
    "## Table of Contents\n",
    "***"
   ]
  },
  {
   "cell_type": "markdown",
   "metadata": {},
   "source": [
    "## Aim <a class=\"anchor\" id=\"aim\"></a>\n",
    "***\n",
    "\n",
    "The aim of this notebook is to do some Exploratory data analysis on the data obtained from the Caching Rest Application"
   ]
  },
  {
   "cell_type": "markdown",
   "metadata": {},
   "source": [
    "## Code Setup <a class=\"anchor\" id=\"code-setup\"></a>\n",
    "***"
   ]
  },
  {
   "cell_type": "markdown",
   "metadata": {},
   "source": [
    "### Import Libraries"
   ]
  },
  {
   "cell_type": "code",
   "execution_count": 2,
   "metadata": {},
   "outputs": [],
   "source": [
    "import pymysql\n",
    "import pandas as pd\n",
    "import sys\n",
    "import numpy as np\n",
    "import matplotlib.pyplot as plt\n",
    "plt.rcParams['figure.figsize'] = [12, 6]\n",
    "import seaborn as sns\n",
    "sns.set_style(\"darkgrid\")\n",
    "sns.set_context(\"paper\")"
   ]
  },
  {
   "cell_type": "markdown",
   "metadata": {},
   "source": [
    "### Constants"
   ]
  },
  {
   "cell_type": "code",
   "execution_count": 3,
   "metadata": {},
   "outputs": [],
   "source": [
    "db_connection = pymysql.connect(\"pidb\",\"dbuser\",\"password\",\"cachetest\" )"
   ]
  },
  {
   "cell_type": "markdown",
   "metadata": {},
   "source": [
    "### Useful Functions"
   ]
  },
  {
   "cell_type": "markdown",
   "metadata": {},
   "source": [
    "### Table Read"
   ]
  },
  {
   "cell_type": "code",
   "execution_count": 4,
   "metadata": {},
   "outputs": [],
   "source": [
    "def read_full_db_table(table_name):\n",
    "    return pd.read_sql('SELECT * FROM ' + table_name, con=db_connection)"
   ]
  },
  {
   "cell_type": "markdown",
   "metadata": {},
   "source": [
    "### Query to Dataframe"
   ]
  },
  {
   "cell_type": "code",
   "execution_count": 5,
   "metadata": {},
   "outputs": [],
   "source": [
    "def obtain_df_from_query(query_string):\n",
    "    return pd.read_sql(query_string, con=db_connection)"
   ]
  },
  {
   "cell_type": "markdown",
   "metadata": {},
   "source": [
    "### Cache Hit Bytes to Boolean"
   ]
  },
  {
   "cell_type": "code",
   "execution_count": 6,
   "metadata": {},
   "outputs": [],
   "source": [
    "def convert_cache_hit_to_boolean(df):\n",
    "    return df.cache_hit.map({b'\\x00' : False, b'\\x01' : True})"
   ]
  },
  {
   "cell_type": "markdown",
   "metadata": {},
   "source": [
    "### DF ids to comma seperated string"
   ]
  },
  {
   "cell_type": "code",
   "execution_count": 7,
   "metadata": {},
   "outputs": [],
   "source": [
    "def df_ids_to_string(df):\n",
    "    id_list = df.id.tolist()\n",
    "    id_list = [str(i) for i in id_list]\n",
    "    return ''.join(id_list)"
   ]
  },
  {
   "cell_type": "markdown",
   "metadata": {},
   "source": [
    "## Data Import <a class=\"anchor\" id=\"data-import\"></a>\n",
    "***"
   ]
  },
  {
   "cell_type": "code",
   "execution_count": 8,
   "metadata": {},
   "outputs": [
    {
     "data": {
      "text/html": [
       "<div>\n",
       "<style scoped>\n",
       "    .dataframe tbody tr th:only-of-type {\n",
       "        vertical-align: middle;\n",
       "    }\n",
       "\n",
       "    .dataframe tbody tr th {\n",
       "        vertical-align: top;\n",
       "    }\n",
       "\n",
       "    .dataframe thead th {\n",
       "        text-align: right;\n",
       "    }\n",
       "</style>\n",
       "<table border=\"1\" class=\"dataframe\">\n",
       "  <thead>\n",
       "    <tr style=\"text-align: right;\">\n",
       "      <th></th>\n",
       "      <th>id</th>\n",
       "      <th>cache_size_mb</th>\n",
       "      <th>cache_type</th>\n",
       "      <th>end_date</th>\n",
       "      <th>eviction_policy</th>\n",
       "      <th>start_date</th>\n",
       "    </tr>\n",
       "  </thead>\n",
       "  <tbody>\n",
       "    <tr>\n",
       "      <th>0</th>\n",
       "      <td>1</td>\n",
       "      <td>256</td>\n",
       "      <td>ehcache</td>\n",
       "      <td>2018-04-13 14:03:39</td>\n",
       "      <td>LRU</td>\n",
       "      <td>2018-04-13 11:30:05</td>\n",
       "    </tr>\n",
       "    <tr>\n",
       "      <th>1</th>\n",
       "      <td>2</td>\n",
       "      <td>512</td>\n",
       "      <td>ehcache</td>\n",
       "      <td>2018-04-14 00:33:22</td>\n",
       "      <td>LRU</td>\n",
       "      <td>2018-04-13 18:48:15</td>\n",
       "    </tr>\n",
       "    <tr>\n",
       "      <th>2</th>\n",
       "      <td>3</td>\n",
       "      <td>128</td>\n",
       "      <td>ehcache</td>\n",
       "      <td>2018-04-14 14:06:03</td>\n",
       "      <td>LRU</td>\n",
       "      <td>2018-04-14 12:39:39</td>\n",
       "    </tr>\n",
       "    <tr>\n",
       "      <th>3</th>\n",
       "      <td>4</td>\n",
       "      <td>1024</td>\n",
       "      <td>ehcache</td>\n",
       "      <td>2018-04-15 06:37:25</td>\n",
       "      <td>LRU</td>\n",
       "      <td>2018-04-14 19:00:22</td>\n",
       "    </tr>\n",
       "    <tr>\n",
       "      <th>4</th>\n",
       "      <td>5</td>\n",
       "      <td>512</td>\n",
       "      <td>hazelcast</td>\n",
       "      <td>2018-04-15 21:27:42</td>\n",
       "      <td>LRU</td>\n",
       "      <td>2018-04-15 15:40:38</td>\n",
       "    </tr>\n",
       "  </tbody>\n",
       "</table>\n",
       "</div>"
      ],
      "text/plain": [
       "   id cache_size_mb cache_type            end_date eviction_policy  \\\n",
       "0   1           256    ehcache 2018-04-13 14:03:39             LRU   \n",
       "1   2           512    ehcache 2018-04-14 00:33:22             LRU   \n",
       "2   3           128    ehcache 2018-04-14 14:06:03             LRU   \n",
       "3   4          1024    ehcache 2018-04-15 06:37:25             LRU   \n",
       "4   5           512  hazelcast 2018-04-15 21:27:42             LRU   \n",
       "\n",
       "           start_date  \n",
       "0 2018-04-13 11:30:05  \n",
       "1 2018-04-13 18:48:15  \n",
       "2 2018-04-14 12:39:39  \n",
       "3 2018-04-14 19:00:22  \n",
       "4 2018-04-15 15:40:38  "
      ]
     },
     "execution_count": 8,
     "metadata": {},
     "output_type": "execute_result"
    }
   ],
   "source": [
    "batch_df = read_full_db_table(\"batch\")\n",
    "batch_df.head()"
   ]
  },
  {
   "cell_type": "markdown",
   "metadata": {},
   "source": [
    "## Ehcache Data"
   ]
  },
  {
   "cell_type": "code",
   "execution_count": 9,
   "metadata": {},
   "outputs": [
    {
     "data": {
      "text/html": [
       "<div>\n",
       "<style scoped>\n",
       "    .dataframe tbody tr th:only-of-type {\n",
       "        vertical-align: middle;\n",
       "    }\n",
       "\n",
       "    .dataframe tbody tr th {\n",
       "        vertical-align: top;\n",
       "    }\n",
       "\n",
       "    .dataframe thead th {\n",
       "        text-align: right;\n",
       "    }\n",
       "</style>\n",
       "<table border=\"1\" class=\"dataframe\">\n",
       "  <thead>\n",
       "    <tr style=\"text-align: right;\">\n",
       "      <th></th>\n",
       "      <th>id</th>\n",
       "      <th>cache_size_mb</th>\n",
       "      <th>cache_type</th>\n",
       "      <th>end_date</th>\n",
       "      <th>eviction_policy</th>\n",
       "      <th>start_date</th>\n",
       "    </tr>\n",
       "  </thead>\n",
       "  <tbody>\n",
       "    <tr>\n",
       "      <th>0</th>\n",
       "      <td>1</td>\n",
       "      <td>256</td>\n",
       "      <td>ehcache</td>\n",
       "      <td>2018-04-13 14:03:39</td>\n",
       "      <td>LRU</td>\n",
       "      <td>2018-04-13 11:30:05</td>\n",
       "    </tr>\n",
       "    <tr>\n",
       "      <th>1</th>\n",
       "      <td>2</td>\n",
       "      <td>512</td>\n",
       "      <td>ehcache</td>\n",
       "      <td>2018-04-14 00:33:22</td>\n",
       "      <td>LRU</td>\n",
       "      <td>2018-04-13 18:48:15</td>\n",
       "    </tr>\n",
       "    <tr>\n",
       "      <th>2</th>\n",
       "      <td>3</td>\n",
       "      <td>128</td>\n",
       "      <td>ehcache</td>\n",
       "      <td>2018-04-14 14:06:03</td>\n",
       "      <td>LRU</td>\n",
       "      <td>2018-04-14 12:39:39</td>\n",
       "    </tr>\n",
       "    <tr>\n",
       "      <th>3</th>\n",
       "      <td>4</td>\n",
       "      <td>1024</td>\n",
       "      <td>ehcache</td>\n",
       "      <td>2018-04-15 06:37:25</td>\n",
       "      <td>LRU</td>\n",
       "      <td>2018-04-14 19:00:22</td>\n",
       "    </tr>\n",
       "  </tbody>\n",
       "</table>\n",
       "</div>"
      ],
      "text/plain": [
       "   id cache_size_mb cache_type            end_date eviction_policy  \\\n",
       "0   1           256    ehcache 2018-04-13 14:03:39             LRU   \n",
       "1   2           512    ehcache 2018-04-14 00:33:22             LRU   \n",
       "2   3           128    ehcache 2018-04-14 14:06:03             LRU   \n",
       "3   4          1024    ehcache 2018-04-15 06:37:25             LRU   \n",
       "\n",
       "           start_date  \n",
       "0 2018-04-13 11:30:05  \n",
       "1 2018-04-13 18:48:15  \n",
       "2 2018-04-14 12:39:39  \n",
       "3 2018-04-14 19:00:22  "
      ]
     },
     "execution_count": 9,
     "metadata": {},
     "output_type": "execute_result"
    }
   ],
   "source": [
    "ehcache_batch_df = batch_df.query(\"cache_type == 'ehcache'\")\n",
    "ehcache_batch_df.head()"
   ]
  },
  {
   "cell_type": "markdown",
   "metadata": {},
   "source": [
    "### EhCache LRU 128 MB"
   ]
  },
  {
   "cell_type": "markdown",
   "metadata": {},
   "source": [
    "#### EhCache LRU 128 MB Batch"
   ]
  },
  {
   "cell_type": "code",
   "execution_count": 10,
   "metadata": {},
   "outputs": [
    {
     "data": {
      "text/html": [
       "<div>\n",
       "<style scoped>\n",
       "    .dataframe tbody tr th:only-of-type {\n",
       "        vertical-align: middle;\n",
       "    }\n",
       "\n",
       "    .dataframe tbody tr th {\n",
       "        vertical-align: top;\n",
       "    }\n",
       "\n",
       "    .dataframe thead th {\n",
       "        text-align: right;\n",
       "    }\n",
       "</style>\n",
       "<table border=\"1\" class=\"dataframe\">\n",
       "  <thead>\n",
       "    <tr style=\"text-align: right;\">\n",
       "      <th></th>\n",
       "      <th>id</th>\n",
       "      <th>cache_size_mb</th>\n",
       "      <th>cache_type</th>\n",
       "      <th>end_date</th>\n",
       "      <th>eviction_policy</th>\n",
       "      <th>start_date</th>\n",
       "    </tr>\n",
       "  </thead>\n",
       "  <tbody>\n",
       "    <tr>\n",
       "      <th>2</th>\n",
       "      <td>3</td>\n",
       "      <td>128</td>\n",
       "      <td>ehcache</td>\n",
       "      <td>2018-04-14 14:06:03</td>\n",
       "      <td>LRU</td>\n",
       "      <td>2018-04-14 12:39:39</td>\n",
       "    </tr>\n",
       "  </tbody>\n",
       "</table>\n",
       "</div>"
      ],
      "text/plain": [
       "   id cache_size_mb cache_type            end_date eviction_policy  \\\n",
       "2   3           128    ehcache 2018-04-14 14:06:03             LRU   \n",
       "\n",
       "           start_date  \n",
       "2 2018-04-14 12:39:39  "
      ]
     },
     "execution_count": 10,
     "metadata": {},
     "output_type": "execute_result"
    }
   ],
   "source": [
    "ehcache_128_LRU_batch_df = ehcache_batch_df.query(\"cache_size_mb == '128' and eviction_policy == 'LRU'\")\n",
    "ehcache_128_LRU_batch_df.head()"
   ]
  },
  {
   "cell_type": "markdown",
   "metadata": {},
   "source": [
    "#### EhCache LRU 128 MB Cache Performance"
   ]
  },
  {
   "cell_type": "code",
   "execution_count": 11,
   "metadata": {},
   "outputs": [
    {
     "data": {
      "text/html": [
       "<div>\n",
       "<style scoped>\n",
       "    .dataframe tbody tr th:only-of-type {\n",
       "        vertical-align: middle;\n",
       "    }\n",
       "\n",
       "    .dataframe tbody tr th {\n",
       "        vertical-align: top;\n",
       "    }\n",
       "\n",
       "    .dataframe thead th {\n",
       "        text-align: right;\n",
       "    }\n",
       "</style>\n",
       "<table border=\"1\" class=\"dataframe\">\n",
       "  <thead>\n",
       "    <tr style=\"text-align: right;\">\n",
       "      <th></th>\n",
       "      <th>id</th>\n",
       "      <th>cache_hit</th>\n",
       "      <th>elapsed_time_inns</th>\n",
       "      <th>end_date</th>\n",
       "      <th>file_name</th>\n",
       "      <th>file_sizekb</th>\n",
       "      <th>image_hash</th>\n",
       "      <th>start_date</th>\n",
       "      <th>batch_id</th>\n",
       "    </tr>\n",
       "  </thead>\n",
       "  <tbody>\n",
       "    <tr>\n",
       "      <th>0</th>\n",
       "      <td>32417</td>\n",
       "      <td>False</td>\n",
       "      <td>1639566293</td>\n",
       "      <td>2018-04-14 12:45:43</td>\n",
       "      <td>../images/burger/google-image(0429).jpeg</td>\n",
       "      <td>402</td>\n",
       "      <td>a0e1db15f1aed841398021575ba7b0bc</td>\n",
       "      <td>2018-04-14 12:45:42</td>\n",
       "      <td>3</td>\n",
       "    </tr>\n",
       "    <tr>\n",
       "      <th>1</th>\n",
       "      <td>32418</td>\n",
       "      <td>False</td>\n",
       "      <td>1056532664</td>\n",
       "      <td>2018-04-14 12:45:44</td>\n",
       "      <td>../images/cache/google-image(0450).jpeg</td>\n",
       "      <td>41</td>\n",
       "      <td>7a3417c6d2fed9615ece878d32dc1f97</td>\n",
       "      <td>2018-04-14 12:45:43</td>\n",
       "      <td>3</td>\n",
       "    </tr>\n",
       "    <tr>\n",
       "      <th>2</th>\n",
       "      <td>32419</td>\n",
       "      <td>False</td>\n",
       "      <td>1101425538</td>\n",
       "      <td>2018-04-14 12:45:45</td>\n",
       "      <td>../images/jumpers/google-image(0225).jpeg</td>\n",
       "      <td>248</td>\n",
       "      <td>b199783399147d5c051cee168fff2648</td>\n",
       "      <td>2018-04-14 12:45:44</td>\n",
       "      <td>3</td>\n",
       "    </tr>\n",
       "    <tr>\n",
       "      <th>3</th>\n",
       "      <td>32420</td>\n",
       "      <td>False</td>\n",
       "      <td>1052317559</td>\n",
       "      <td>2018-04-14 12:45:46</td>\n",
       "      <td>../images/dogs/google-image(0056).jpeg</td>\n",
       "      <td>71</td>\n",
       "      <td>bb239b4e9b36007efb93e785b0ef6ebb</td>\n",
       "      <td>2018-04-14 12:45:45</td>\n",
       "      <td>3</td>\n",
       "    </tr>\n",
       "    <tr>\n",
       "      <th>4</th>\n",
       "      <td>32421</td>\n",
       "      <td>False</td>\n",
       "      <td>1050180165</td>\n",
       "      <td>2018-04-14 12:45:48</td>\n",
       "      <td>../images/cache/google-image(0615).jpeg</td>\n",
       "      <td>17</td>\n",
       "      <td>fdd44056424886e9fe9c8569ac4c9762</td>\n",
       "      <td>2018-04-14 12:45:46</td>\n",
       "      <td>3</td>\n",
       "    </tr>\n",
       "  </tbody>\n",
       "</table>\n",
       "</div>"
      ],
      "text/plain": [
       "      id  cache_hit  elapsed_time_inns            end_date  \\\n",
       "0  32417      False         1639566293 2018-04-14 12:45:43   \n",
       "1  32418      False         1056532664 2018-04-14 12:45:44   \n",
       "2  32419      False         1101425538 2018-04-14 12:45:45   \n",
       "3  32420      False         1052317559 2018-04-14 12:45:46   \n",
       "4  32421      False         1050180165 2018-04-14 12:45:48   \n",
       "\n",
       "                                   file_name  file_sizekb  \\\n",
       "0   ../images/burger/google-image(0429).jpeg          402   \n",
       "1    ../images/cache/google-image(0450).jpeg           41   \n",
       "2  ../images/jumpers/google-image(0225).jpeg          248   \n",
       "3     ../images/dogs/google-image(0056).jpeg           71   \n",
       "4    ../images/cache/google-image(0615).jpeg           17   \n",
       "\n",
       "                         image_hash          start_date  batch_id  \n",
       "0  a0e1db15f1aed841398021575ba7b0bc 2018-04-14 12:45:42         3  \n",
       "1  7a3417c6d2fed9615ece878d32dc1f97 2018-04-14 12:45:43         3  \n",
       "2  b199783399147d5c051cee168fff2648 2018-04-14 12:45:44         3  \n",
       "3  bb239b4e9b36007efb93e785b0ef6ebb 2018-04-14 12:45:45         3  \n",
       "4  fdd44056424886e9fe9c8569ac4c9762 2018-04-14 12:45:46         3  "
      ]
     },
     "execution_count": 11,
     "metadata": {},
     "output_type": "execute_result"
    }
   ],
   "source": [
    "ehcache_128_LRU_cperformance_df = obtain_df_from_query(\"SELECT * FROM cache_performance cp where cp.batch_id in (\"\n",
    "                                              + df_ids_to_string(ehcache_128_LRU_batch_df)\n",
    "                                              + \")\")\n",
    "# Issue with Booleans coming in as bytes and not booleans\n",
    "ehcache_128_LRU_cperformance_df.cache_hit = convert_cache_hit_to_boolean(ehcache_128_LRU_cperformance_df)\n",
    "# ehcache_128_LRU_cperformance_df = ehcache_128_LRU_cperformance_df.query(\"cache_hit\")\n",
    "ehcache_128_LRU_cperformance_df.head()"
   ]
  },
  {
   "cell_type": "markdown",
   "metadata": {},
   "source": [
    "#### EhCache LRU 128 MB Cache Initial Content"
   ]
  },
  {
   "cell_type": "code",
   "execution_count": 12,
   "metadata": {},
   "outputs": [
    {
     "data": {
      "text/html": [
       "<div>\n",
       "<style scoped>\n",
       "    .dataframe tbody tr th:only-of-type {\n",
       "        vertical-align: middle;\n",
       "    }\n",
       "\n",
       "    .dataframe tbody tr th {\n",
       "        vertical-align: top;\n",
       "    }\n",
       "\n",
       "    .dataframe thead th {\n",
       "        text-align: right;\n",
       "    }\n",
       "</style>\n",
       "<table border=\"1\" class=\"dataframe\">\n",
       "  <thead>\n",
       "    <tr style=\"text-align: right;\">\n",
       "      <th></th>\n",
       "      <th>id</th>\n",
       "      <th>file_name</th>\n",
       "      <th>file_sizekb</th>\n",
       "      <th>image_hash</th>\n",
       "      <th>batch_id</th>\n",
       "    </tr>\n",
       "  </thead>\n",
       "  <tbody>\n",
       "    <tr>\n",
       "      <th>0</th>\n",
       "      <td>5006</td>\n",
       "      <td>../images/animals/google-image(0376).jpeg</td>\n",
       "      <td>66</td>\n",
       "      <td>1d76de3e83e4400a226520c45b10db5c</td>\n",
       "      <td>3</td>\n",
       "    </tr>\n",
       "    <tr>\n",
       "      <th>1</th>\n",
       "      <td>5007</td>\n",
       "      <td>../images/animals/google-image(0294).jpeg</td>\n",
       "      <td>68</td>\n",
       "      <td>3913378a350367deec4f7b754f7b3074</td>\n",
       "      <td>3</td>\n",
       "    </tr>\n",
       "    <tr>\n",
       "      <th>2</th>\n",
       "      <td>5008</td>\n",
       "      <td>../images/animals/google-image(0213).jpeg</td>\n",
       "      <td>118</td>\n",
       "      <td>ae7cfb1ab1945836c2925e43061d7827</td>\n",
       "      <td>3</td>\n",
       "    </tr>\n",
       "    <tr>\n",
       "      <th>3</th>\n",
       "      <td>5009</td>\n",
       "      <td>../images/animals/google-image(0219).jpeg</td>\n",
       "      <td>53</td>\n",
       "      <td>8b70b4e1ec8e5a05874d08f0f48133a4</td>\n",
       "      <td>3</td>\n",
       "    </tr>\n",
       "    <tr>\n",
       "      <th>4</th>\n",
       "      <td>5010</td>\n",
       "      <td>../images/animals/google-image(0079).jpeg</td>\n",
       "      <td>45</td>\n",
       "      <td>4565da9f4eb917b6ecaf854d22c40147</td>\n",
       "      <td>3</td>\n",
       "    </tr>\n",
       "  </tbody>\n",
       "</table>\n",
       "</div>"
      ],
      "text/plain": [
       "     id                                  file_name  file_sizekb  \\\n",
       "0  5006  ../images/animals/google-image(0376).jpeg           66   \n",
       "1  5007  ../images/animals/google-image(0294).jpeg           68   \n",
       "2  5008  ../images/animals/google-image(0213).jpeg          118   \n",
       "3  5009  ../images/animals/google-image(0219).jpeg           53   \n",
       "4  5010  ../images/animals/google-image(0079).jpeg           45   \n",
       "\n",
       "                         image_hash  batch_id  \n",
       "0  1d76de3e83e4400a226520c45b10db5c         3  \n",
       "1  3913378a350367deec4f7b754f7b3074         3  \n",
       "2  ae7cfb1ab1945836c2925e43061d7827         3  \n",
       "3  8b70b4e1ec8e5a05874d08f0f48133a4         3  \n",
       "4  4565da9f4eb917b6ecaf854d22c40147         3  "
      ]
     },
     "execution_count": 12,
     "metadata": {},
     "output_type": "execute_result"
    }
   ],
   "source": [
    "ehcache_128_LRU_cinitial_content_df = obtain_df_from_query(\"SELECT * FROM cache_initial_content cic where cic.batch_id in (\"\n",
    "                                              + df_ids_to_string(ehcache_128_LRU_batch_df)\n",
    "                                              + \")\")\n",
    "ehcache_128_LRU_cinitial_content_df.head()"
   ]
  },
  {
   "cell_type": "markdown",
   "metadata": {},
   "source": [
    "#### EhCache LRU 128 MB Cache Remainder"
   ]
  },
  {
   "cell_type": "code",
   "execution_count": 13,
   "metadata": {},
   "outputs": [
    {
     "data": {
      "text/html": [
       "<div>\n",
       "<style scoped>\n",
       "    .dataframe tbody tr th:only-of-type {\n",
       "        vertical-align: middle;\n",
       "    }\n",
       "\n",
       "    .dataframe tbody tr th {\n",
       "        vertical-align: top;\n",
       "    }\n",
       "\n",
       "    .dataframe thead th {\n",
       "        text-align: right;\n",
       "    }\n",
       "</style>\n",
       "<table border=\"1\" class=\"dataframe\">\n",
       "  <thead>\n",
       "    <tr style=\"text-align: right;\">\n",
       "      <th></th>\n",
       "      <th>id</th>\n",
       "      <th>file_name</th>\n",
       "      <th>file_sizekb</th>\n",
       "      <th>image_hash</th>\n",
       "      <th>batch_id</th>\n",
       "    </tr>\n",
       "  </thead>\n",
       "  <tbody>\n",
       "    <tr>\n",
       "      <th>0</th>\n",
       "      <td>5573</td>\n",
       "      <td>../images/animals/google-image(0320).jpeg</td>\n",
       "      <td>399</td>\n",
       "      <td>906a05f99aaa6cdc4cad556ef9786f2d</td>\n",
       "      <td>3</td>\n",
       "    </tr>\n",
       "    <tr>\n",
       "      <th>1</th>\n",
       "      <td>5574</td>\n",
       "      <td>../images/animals/google-image(0356).png</td>\n",
       "      <td>457</td>\n",
       "      <td>2ce104af6c1a409f0d9554149e998240</td>\n",
       "      <td>3</td>\n",
       "    </tr>\n",
       "    <tr>\n",
       "      <th>2</th>\n",
       "      <td>5575</td>\n",
       "      <td>../images/animals/google-image(0014).jpeg</td>\n",
       "      <td>447</td>\n",
       "      <td>634e07f9d076196431a0a7d9b66b893</td>\n",
       "      <td>3</td>\n",
       "    </tr>\n",
       "    <tr>\n",
       "      <th>3</th>\n",
       "      <td>5576</td>\n",
       "      <td>../images/animals/google-image(0013).jpeg</td>\n",
       "      <td>334</td>\n",
       "      <td>3a6e82096b37fc830c0d3bf05ecdc971</td>\n",
       "      <td>3</td>\n",
       "    </tr>\n",
       "    <tr>\n",
       "      <th>4</th>\n",
       "      <td>5577</td>\n",
       "      <td>../images/animals/google-image(0427).jpeg</td>\n",
       "      <td>174</td>\n",
       "      <td>4a717a437ae230f03845184fb60659dd</td>\n",
       "      <td>3</td>\n",
       "    </tr>\n",
       "  </tbody>\n",
       "</table>\n",
       "</div>"
      ],
      "text/plain": [
       "     id                                  file_name  file_sizekb  \\\n",
       "0  5573  ../images/animals/google-image(0320).jpeg          399   \n",
       "1  5574   ../images/animals/google-image(0356).png          457   \n",
       "2  5575  ../images/animals/google-image(0014).jpeg          447   \n",
       "3  5576  ../images/animals/google-image(0013).jpeg          334   \n",
       "4  5577  ../images/animals/google-image(0427).jpeg          174   \n",
       "\n",
       "                         image_hash  batch_id  \n",
       "0  906a05f99aaa6cdc4cad556ef9786f2d         3  \n",
       "1  2ce104af6c1a409f0d9554149e998240         3  \n",
       "2   634e07f9d076196431a0a7d9b66b893         3  \n",
       "3  3a6e82096b37fc830c0d3bf05ecdc971         3  \n",
       "4  4a717a437ae230f03845184fb60659dd         3  "
      ]
     },
     "execution_count": 13,
     "metadata": {},
     "output_type": "execute_result"
    }
   ],
   "source": [
    "ehcache_128_LRU_cremainder_df = obtain_df_from_query(\"SELECT * FROM cache_remainder cr where cr.batch_id in (\"\n",
    "                                              + df_ids_to_string(ehcache_128_LRU_batch_df)\n",
    "                                              + \")\")\n",
    "ehcache_128_LRU_cremainder_df.head()"
   ]
  }
 ],
 "metadata": {
  "kernelspec": {
   "display_name": "Python 3",
   "language": "python",
   "name": "python3"
  },
  "language_info": {
   "codemirror_mode": {
    "name": "ipython",
    "version": 3
   },
   "file_extension": ".py",
   "mimetype": "text/x-python",
   "name": "python",
   "nbconvert_exporter": "python",
   "pygments_lexer": "ipython3",
   "version": "3.6.4"
  }
 },
 "nbformat": 4,
 "nbformat_minor": 2
}
