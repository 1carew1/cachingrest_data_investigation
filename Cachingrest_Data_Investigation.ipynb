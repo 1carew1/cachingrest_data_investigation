{
 "cells": [
  {
   "cell_type": "code",
   "execution_count": 1,
   "metadata": {},
   "outputs": [],
   "source": [
    "%matplotlib inline "
   ]
  },
  {
   "cell_type": "markdown",
   "metadata": {},
   "source": [
    "# Caching Rest Data Investigation\n",
    "***"
   ]
  },
  {
   "cell_type": "markdown",
   "metadata": {},
   "source": [
    "## Table of Contents\n",
    "***"
   ]
  },
  {
   "cell_type": "markdown",
   "metadata": {},
   "source": [
    "## Aim <a class=\"anchor\" id=\"aim\"></a>\n",
    "***\n",
    "\n",
    "The aim of this notebook is to do some Exploratory data analysis on the data obtained from the Caching Rest Application"
   ]
  },
  {
   "cell_type": "markdown",
   "metadata": {},
   "source": [
    "## Code Setup <a class=\"anchor\" id=\"code-setup\"></a>\n",
    "***"
   ]
  },
  {
   "cell_type": "markdown",
   "metadata": {},
   "source": [
    "### Import Libraries"
   ]
  },
  {
   "cell_type": "code",
   "execution_count": 2,
   "metadata": {},
   "outputs": [],
   "source": [
    "import pymysql\n",
    "import pandas as pd\n",
    "import sys\n",
    "import numpy as np\n",
    "import matplotlib.pyplot as plt\n",
    "plt.rcParams['figure.figsize'] = [12, 6]\n",
    "import seaborn as sns\n",
    "sns.set_style(\"darkgrid\")\n",
    "sns.set_context(\"paper\")"
   ]
  },
  {
   "cell_type": "markdown",
   "metadata": {},
   "source": [
    "### Custom Classes"
   ]
  },
  {
   "cell_type": "code",
   "execution_count": 3,
   "metadata": {},
   "outputs": [],
   "source": [
    "class CachePerformanceMetrics:\n",
    "    def __init__(self, cache_hit_size, cache_miss_size):\n",
    "        self.cache_hit_size = cache_hit_size\n",
    "        self.cache_miss_size = cache_miss_size\n",
    "        self.total_size = cache_hit_size + cache_miss_size\n",
    "        self.hit_ratio = cache_hit_size/self.total_size\n",
    "    \n",
    "    def __repr__(self):\n",
    "        return \"Hit Ratio : \" + str(self.hit_ratio)"
   ]
  },
  {
   "cell_type": "markdown",
   "metadata": {},
   "source": [
    "### Constants"
   ]
  },
  {
   "cell_type": "code",
   "execution_count": 4,
   "metadata": {},
   "outputs": [],
   "source": [
    "db_connection = pymysql.connect(\"pidb\",\"dbuser\",\"password\",\"cachetest\" )"
   ]
  },
  {
   "cell_type": "markdown",
   "metadata": {},
   "source": [
    "### Useful Functions"
   ]
  },
  {
   "cell_type": "markdown",
   "metadata": {},
   "source": [
    "#### Table Read"
   ]
  },
  {
   "cell_type": "code",
   "execution_count": 5,
   "metadata": {},
   "outputs": [],
   "source": [
    "def read_full_db_table(table_name):\n",
    "    return pd.read_sql('SELECT * FROM ' + table_name, con=db_connection)"
   ]
  },
  {
   "cell_type": "markdown",
   "metadata": {},
   "source": [
    "#### Query to Dataframe"
   ]
  },
  {
   "cell_type": "code",
   "execution_count": 6,
   "metadata": {},
   "outputs": [],
   "source": [
    "def obtain_df_from_query(query_string):\n",
    "    return pd.read_sql(query_string, con=db_connection)"
   ]
  },
  {
   "cell_type": "markdown",
   "metadata": {},
   "source": [
    "#### Cache Hit Bytes to Boolean"
   ]
  },
  {
   "cell_type": "code",
   "execution_count": 7,
   "metadata": {},
   "outputs": [],
   "source": [
    "def convert_cache_hit_to_boolean(df):\n",
    "    df.cache_hit = df.cache_hit.map({b'\\x00' : False, b'\\x01' : True})\n",
    "    return df"
   ]
  },
  {
   "cell_type": "markdown",
   "metadata": {},
   "source": [
    "#### DF ids to comma seperated string"
   ]
  },
  {
   "cell_type": "code",
   "execution_count": 8,
   "metadata": {},
   "outputs": [],
   "source": [
    "def df_ids_to_string(df):\n",
    "    id_list = df.id.tolist()\n",
    "    id_list = [str(i) for i in id_list]\n",
    "    return ''.join(id_list)"
   ]
  },
  {
   "cell_type": "markdown",
   "metadata": {},
   "source": [
    "#### Process a Set of Parameters"
   ]
  },
  {
   "cell_type": "code",
   "execution_count": 18,
   "metadata": {},
   "outputs": [],
   "source": [
    "def crunch_the_data(cache_type, cache_size_mb, eviction_policy):\n",
    "    query_for_batch = (\"cache_type == '\" + cache_type + \"' and cache_size_mb == '\" + str(cache_size_mb) \n",
    "                       + \"' and eviction_policy == '\" + eviction_policy + \"'\")\n",
    "    # Batches fitting criteria\n",
    "    batches_df = batch_df.query(query_for_batch)\n",
    "    \n",
    "    # Cache Performance\n",
    "    cache_performace_df = obtain_df_from_query(\"SELECT * FROM cache_performance cp where cp.batch_id in (\"\n",
    "                                              + df_ids_to_string(batches_df)\n",
    "                                              + \")\")\n",
    "    # Issue with Booleans coming in as bytes and not booleans\n",
    "    cache_performace_df = convert_cache_hit_to_boolean(cache_performace_df)\n",
    "    \n",
    "    # Cache Initial Content\n",
    "    cache_initial_content_df = obtain_df_from_query(\"SELECT * FROM cache_initial_content cic where cic.batch_id in (\"\n",
    "                                              + df_ids_to_string(batches_df)\n",
    "                                              + \")\")\n",
    "    # Cache Remainder\n",
    "    cache_remainder_df = obtain_df_from_query(\"SELECT * FROM cache_remainder cr where cr.batch_id in (\"\n",
    "                                              + df_ids_to_string(batches_df)\n",
    "                                              + \")\")\n",
    "\n",
    "    # Separate data into dictionary based on batches\n",
    "    cache_performance_per_batch = {}\n",
    "    cache_initial_content_per_batch = {}\n",
    "    cache_remainder_per_batch = {}\n",
    "    batch_ids = batches_df.id.unique().tolist()\n",
    "    for batch_id in batch_ids :\n",
    "        query_for_df = \"batch_id == '\" + str(batch_id) + \"'\"\n",
    "        cache_performance_per_batch[batch_id] = cache_performace_df.query(query_for_df)\n",
    "        cache_initial_content_per_batch[batch_id] = cache_initial_content_df.query(query_for_df)\n",
    "        cache_remainder_per_batch[batch_id] = cache_remainder_df.query(query_for_df)\n",
    "    \n",
    "    # Compute the Cache Performance Metrics\n",
    "    cache_performance_metrics = []\n",
    "    for batch_id, cp_df in cache_performance_per_batch.items():\n",
    "        print(\"For batch id : \", batch_id) \n",
    "        cp_df_hit = cp_df.query(\"cache_hit\")\n",
    "        cp_df_miss = cp_df.query(\"cache_hit == False\")\n",
    "        hit_size = cp_df_hit.shape[0]\n",
    "        miss_size = cp_df_miss.shape[0]\n",
    "        cache_performance_metric = CachePerformanceMetrics(hit_size, miss_size)\n",
    "        cache_performance_metrics.append(cache_performance_metric)\n",
    "        print(\"Cache Hits \", cache_performance_metric.cache_hit_size, \", Misses : \", \n",
    "              cache_performance_metric.cache_miss_size, \" Hit Ratio : \", cache_performance_metric.hit_ratio)\n",
    "    average_hit_ratio = 0\n",
    "    for cache_performance_metric in cache_performance_metrics:\n",
    "        average_hit_ratio = average_hit_ratio + cache_performance_metric.hit_ratio\n",
    "    average_hit_ratio = average_hit_ratio/(len(cache_performance_metrics))\n",
    "    print(\"Average Hit Ratio : \", average_hit_ratio)"
   ]
  },
  {
   "cell_type": "markdown",
   "metadata": {},
   "source": [
    "### Global Data"
   ]
  },
  {
   "cell_type": "code",
   "execution_count": 10,
   "metadata": {},
   "outputs": [],
   "source": [
    "batch_df = read_full_db_table(\"batch\")"
   ]
  },
  {
   "cell_type": "markdown",
   "metadata": {},
   "source": [
    "## Data Import <a class=\"anchor\" id=\"data-import\"></a>\n",
    "***"
   ]
  },
  {
   "cell_type": "code",
   "execution_count": 11,
   "metadata": {},
   "outputs": [
    {
     "name": "stdout",
     "output_type": "stream",
     "text": [
      "ehcache\n",
      "hazelcast\n"
     ]
    }
   ],
   "source": [
    "list_of_cache_types = batch_df.cache_type.unique().tolist()\n",
    "for cache_type in list_of_cache_types :\n",
    "    print(cache_type)"
   ]
  },
  {
   "cell_type": "code",
   "execution_count": null,
   "metadata": {},
   "outputs": [],
   "source": []
  },
  {
   "cell_type": "code",
   "execution_count": null,
   "metadata": {},
   "outputs": [],
   "source": []
  },
  {
   "cell_type": "code",
   "execution_count": null,
   "metadata": {},
   "outputs": [],
   "source": []
  },
  {
   "cell_type": "code",
   "execution_count": null,
   "metadata": {},
   "outputs": [],
   "source": []
  },
  {
   "cell_type": "markdown",
   "metadata": {},
   "source": [
    "## Ehcache Data"
   ]
  },
  {
   "cell_type": "markdown",
   "metadata": {},
   "source": [
    "### Ehcache LRU 128 MB"
   ]
  },
  {
   "cell_type": "code",
   "execution_count": 19,
   "metadata": {},
   "outputs": [
    {
     "name": "stdout",
     "output_type": "stream",
     "text": [
      "For batch id :  3\n",
      "Cache Hits  268 , Misses :  3961  Hit Ratio :  0.06337195554504611\n",
      "Average Hit Ratio :  0.06337195554504611\n"
     ]
    }
   ],
   "source": [
    "crunch_the_data(\"ehcache\", 128, \"LRU\")"
   ]
  },
  {
   "cell_type": "markdown",
   "metadata": {},
   "source": [
    "### Ehcache LRU 256 MB"
   ]
  },
  {
   "cell_type": "code",
   "execution_count": 13,
   "metadata": {},
   "outputs": [
    {
     "name": "stdout",
     "output_type": "stream",
     "text": [
      "For batch id :  1\n",
      "Cache Hits  1084 , Misses :  7576  Hit Ratio :  0.12517321016166283\n",
      "[Hit Ratio : 0.12517321016166283]\n"
     ]
    }
   ],
   "source": [
    "crunch_the_data(\"ehcache\", 256, \"LRU\")"
   ]
  },
  {
   "cell_type": "markdown",
   "metadata": {},
   "source": [
    "### Ehcache LRU 512 MB"
   ]
  },
  {
   "cell_type": "code",
   "execution_count": 14,
   "metadata": {},
   "outputs": [
    {
     "name": "stdout",
     "output_type": "stream",
     "text": [
      "For batch id :  2\n",
      "Cache Hits  5961 , Misses :  17795  Hit Ratio :  0.25092608183195825\n",
      "[Hit Ratio : 0.25092608183195825]\n"
     ]
    }
   ],
   "source": [
    "crunch_the_data(\"ehcache\", 512, \"LRU\")"
   ]
  },
  {
   "cell_type": "markdown",
   "metadata": {},
   "source": [
    "### Ehcache LRU 1024 MB"
   ]
  },
  {
   "cell_type": "code",
   "execution_count": 17,
   "metadata": {},
   "outputs": [
    {
     "name": "stdout",
     "output_type": "stream",
     "text": [
      "For batch id :  4\n",
      "Cache Hits  36688 , Misses :  35786  Hit Ratio :  0.5062229213235091\n",
      "[Hit Ratio : 0.5062229213235091]\n"
     ]
    }
   ],
   "source": [
    "crunch_the_data(\"ehcache\", 1024, \"LRU\")"
   ]
  },
  {
   "cell_type": "code",
   "execution_count": null,
   "metadata": {},
   "outputs": [],
   "source": []
  }
 ],
 "metadata": {
  "kernelspec": {
   "display_name": "Python 3",
   "language": "python",
   "name": "python3"
  },
  "language_info": {
   "codemirror_mode": {
    "name": "ipython",
    "version": 3
   },
   "file_extension": ".py",
   "mimetype": "text/x-python",
   "name": "python",
   "nbconvert_exporter": "python",
   "pygments_lexer": "ipython3",
   "version": "3.6.4"
  }
 },
 "nbformat": 4,
 "nbformat_minor": 2
}
